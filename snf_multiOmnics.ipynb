{
  "cells": [
    {
      "cell_type": "code",
      "source": [
        "import pandas as pd\n",
        "import numpy as np\n",
        "import json\n",
        "import os\n",
        "import networkx as nx\n",
        "import pickle5 as pickle\n",
        "\n",
        "from tqdm import tqdm\n",
        "from sklearn.preprocessing import StandardScaler, MinMaxScaler\n",
        "from sklearn.cluster import SpectralClustering, KMeans\n",
        "from sklearn.metrics import silhouette_score, adjusted_rand_score\n",
        "from sklearn.preprocessing import LabelEncoder\n",
        "\n",
        "from myclass.CleanMergeDataset import Clean_Merge_Dataset\n",
        "from myclass.BonferroniTtest import Bonferroni_Ttest"
      ],
      "outputs": [],
      "execution_count": 1,
      "metadata": {
        "gather": {
          "logged": 1608995475084
        }
      }
    },
    {
      "cell_type": "code",
      "source": [
        "if os.path.exists('final_dataset_common.json') is False:\n",
        "\n",
        "    data_normal = pd.read_pickle('./data-ready/RNA_dataframe_normal').replace('/', '\\\\')\n",
        "    data_tumor = pd.read_pickle('./data-ready/RNA_dataframe').replace('/', '\\\\')\n",
        "    dataset_RNA, y_RNA, cases_id_RNA = Clean_Merge_Dataset(name='RNA').transform(data_normal, data_tumor)\n",
        "    df_RNA = pd.concat([dataset_RNA, cases_id_RNA], axis=1)\n",
        "\n",
        "    data_normal = pd.read_pickle('./data-ready/miRNA_dataframe_normal').replace('/', '\\\\')\n",
        "    data_tumor = pd.read_pickle('./data-ready/miRNA_dataframe').replace('/', '\\\\')\n",
        "    dataset_miRNA, y_miRNA, cases_id_miRNA= Clean_Merge_Dataset(name='miRNA').transform(data_normal, data_tumor)\n",
        "    df_miRNA = pd.concat([dataset_miRNA, cases_id_miRNA], axis=1)\n",
        "\n",
        "    data_normal = pd.read_pickle('./data-ready/illumina-27-450-normal').replace('/', '\\\\')\n",
        "    data_tumor = pd.read_pickle('./data-ready/illumina450-27-tumor').replace('/', '\\\\')\n",
        "    dataset_illumina, y_illumina, cases_id_illumina= Clean_Merge_Dataset(name='illumina').transform(data_normal, data_tumor)\n",
        "    df_illumina = pd.concat([dataset_illumina, cases_id_illumina], axis=1)\n",
        "\n",
        "    dataset_RNA = Bonferroni_Ttest(label_case_id_into_X=True, alpha=0.05).fit_transform(pd.concat([df_RNA, y_RNA], axis=1), y_RNA)\n",
        "    dataset_miRNA = Bonferroni_Ttest(label_case_id_into_X=True, alpha=0.05).fit_transform(pd.concat([df_miRNA, y_miRNA], axis=1), y_miRNA)\n",
        "    dataset_illumina = Bonferroni_Ttest(label_case_id_into_X=True, alpha=0.05).fit_transform(pd.concat([df_illumina, y_illumina], axis=1), y_illumina)\n",
        "\n",
        "    cases_id = set(dataset_illumina['case_id']) & set(dataset_miRNA['case_id']) & set(dataset_RNA['case_id'])\n",
        "    df_final_illumina = dataset_illumina.loc[dataset_illumina['case_id'].isin(cases_id)]\n",
        "    df_final_rna = dataset_RNA.loc[dataset_RNA['case_id'].isin(cases_id)]\n",
        "    df_final_mirna = dataset_miRNA.loc[dataset_miRNA['case_id'].isin(cases_id)]\n",
        "\n",
        "    print(df_final_illumina.shape)\n",
        "    print(df_final_rna.shape)\n",
        "    print(df_final_mirna.shape)\n",
        "    \n",
        "    df_final_illumina.to_pickle('illumina_pickle.pkl')\n",
        "    df_final_rna.to_pickle('rna_pickle.pkl')\n",
        "    df_final_mirna.to_pickle('miRNA_pickle.pkl')\n",
        "    \n",
        "    my_dict = {\n",
        "        'miRNA': df_final_mirna.to_dict(),\n",
        "        'RNA': df_final_rna.to_dict(),\n",
        "        'illumina': df_final_illumina.to_dict()\n",
        "    }\n",
        "    with open('final_dataset_common.json', 'w') as outfile:\n",
        "        json.dump(my_dict, outfile)\n",
        "    \n",
        "    df_illumina = df_final_illumina.copy()\n",
        "    df_mirna = df_final_mirna.copy()\n",
        "    df_rna = df_final_rna.copy()\n",
        "    \n",
        "    del my_dict\n",
        "    del df_final_illumina\n",
        "    del df_final_rna\n",
        "    del df_final_mirna\n",
        "    del dataset_illumina\n",
        "    del dataset_RNA\n",
        "    del dataset_miRNA\n",
        "else:\n",
        "    #df_illumina = pd.read_pickle('illumina_pickle.pkl')\n",
        "    #df_mirna = pd.read_pickle('miRNA_pickle.pkl')\n",
        "    #df_rna = pd.read_pickle('rna_pickle.pkl')\n",
        "    with open('illumina_pickle.pkl' ,'rb') as f:\n",
        "        df_illumina = pickle.load(f)\n",
        "    with open('mirna_pickle.pkl' ,'rb') as f:\n",
        "        df_mirna = pickle.load(f)\n",
        "    with open('rna_pickle.pkl' ,'rb') as f:\n",
        "        df_rna = pickle.load(f)"
      ],
      "outputs": [],
      "execution_count": 13,
      "metadata": {
        "gather": {
          "logged": 1608995811009
        }
      }
    },
    {
      "cell_type": "code",
      "source": [
        "import numpy as np\n",
        "import pandas as pd\n",
        "\n",
        "from scipy.spatial.distance import pdist, squareform\n",
        "from copy import deepcopy\n",
        "from sklearn.preprocessing import StandardScaler\n",
        "\n",
        "class SimilarityNetworkFusion:\n",
        "    def __init__(self, df_mirna, df_rna, df_illumina, k=3, mu=0.3):\n",
        "        \n",
        "        self.cases_id = df_rna.loc[:, 'case_id']\n",
        "        self.rna = df_rna.copy()\n",
        "        self.mirna = df_mirna.copy()\n",
        "        self.illumina = df_illumina.copy()\n",
        "        \n",
        "        self.k = k\n",
        "        self.mu = mu\n",
        "        self.check_columns()\n",
        "    \n",
        "    def calculate_matrix(self):\n",
        "        if hasattr(self, 'w_rna') is False:\n",
        "            self.w_rna = self.__weights__(self.rna, 'RNA')\n",
        "            self.w_mirna = self.__weights__(self.mirna, 'miRNA')\n",
        "            self.w_illumina = self.__weights__(self.illumina, 'Illumina')\n",
        "        \n",
        "        if hasattr(self, 'p_rna') is False:\n",
        "            self.starting_p_rna = self.P_matrix(self.w_rna.to_numpy().tolist(), self.cases_id.shape[0], 'RNA')\n",
        "            self.starting_p_mirna = self.P_matrix(self.w_mirna.to_numpy().tolist(), self.cases_id.shape[0], 'miRNA')\n",
        "            self.starting_p_illumina = self.P_matrix(self.w_illumina.to_numpy().tolist(), self.cases_id.shape[0], 'Illumina')\n",
        "\n",
        "        self.s_rna = self.S_matrix(self.w_rna.to_numpy().tolist(), self.cases_id.shape[0], 'RNA')\n",
        "        self.s_mirna = self.S_matrix(self.w_mirna.to_numpy().tolist(), self.cases_id.shape[0], 'miRNA')\n",
        "        self.s_illumina = self.S_matrix(self.w_illumina.to_numpy().tolist(), self.cases_id.shape[0], 'Illumina')\n",
        "        \n",
        "        return self\n",
        "        \n",
        "\n",
        "    def __weights__(self, dataset, name):\n",
        "        print('Calculating weights for {}...'.format(name))\n",
        "        df = pd.DataFrame(columns=self.cases_id, data=dataset.T.values)\n",
        "        \n",
        "        #calculate euclidean distance\n",
        "        dist = pdist(dataset, 'euclidean')\n",
        "        self.df_dist = pd.DataFrame(columns=self.cases_id, index=self.cases_id, data=squareform(dist))\n",
        "        weights = pd.DataFrame(columns=self.cases_id, index=self.cases_id, data=[])\n",
        "                \n",
        "        for i, patient_i in enumerate(tqdm(self.cases_id)):\n",
        "            for patient_j in self.cases_id.iloc[i:]:\n",
        "                    tokK_mean_i = np.sort(self.df_dist.loc[patient_i, :].to_numpy())[:self.k].mean()\n",
        "                    topK_mean_j = np.sort(self.df_dist.loc[patient_j, :].to_numpy())[:self.k].mean()\n",
        "                    \n",
        "                    eps = (tokK_mean_i + tokK_mean_i + self.df_dist.loc[patient_i, patient_j])/3\n",
        "\n",
        "                    weights.loc[patient_i, patient_j] = np.exp(-(self.df_dist.loc[patient_i, patient_j]**2/(eps*self.mu)))\n",
        "                    weights.loc[patient_j, patient_i] = np.exp(-(self.df_dist.loc[patient_j, patient_i]**2/(eps*self.mu)))\n",
        "                    \n",
        "        return weights       \n",
        "    \n",
        "    def check_columns(self):\n",
        "        scaler = MinMaxScaler()\n",
        "        if 'label' in self.mirna.columns:\n",
        "            self.mirna.drop(['label'], axis=1, inplace=True)\n",
        "        if 'case_id' in self.mirna.columns:\n",
        "            self.mirna.drop(['case_id'], axis=1, inplace=True)\n",
        "            \n",
        "        if 'label' in self.rna.columns:\n",
        "            self.rna.drop(['label'], axis=1, inplace=True)\n",
        "        if 'case_id' in self.rna.columns:\n",
        "            self.rna.drop(['case_id'], axis=1, inplace=True)\n",
        "            \n",
        "        if 'label' in self.illumina.columns:\n",
        "            self.illumina.drop(['label'], axis=1, inplace=True)\n",
        "        if 'case_id' in self.illumina.columns:\n",
        "            self.illumina.drop(['case_id'], axis=1, inplace=True)\n",
        "            \n",
        "        self.mirna = pd.DataFrame(scaler.fit_transform(self.mirna))\n",
        "        self.rna = pd.DataFrame(scaler.fit_transform(self.rna))\n",
        "        self.illumina = pd.DataFrame(scaler.fit_transform(self.illumina))\n",
        "\n",
        "        return\n",
        "\n",
        "\n",
        "    def find_k_neighbors(self, row, i, k=None): \n",
        "        row=deepcopy(row)\n",
        "        #case of P matrix\n",
        "        if k==None:\n",
        "            del row[i]  #delete element of the same column of row index\n",
        "            return row\n",
        "\n",
        "        #case of S (find k elements with minimum distance value of W[i][j])\n",
        "        else:\n",
        "            k_neighbors_index=[]\n",
        "            neigh = 0\n",
        "            max_value = max(row)\n",
        "            for j in range(0, len(row)):\n",
        "                if j!=i:\n",
        "                    min_index = row.index(min(row))\n",
        "                    k_neighbors_index.append(min_index)\n",
        "                    neigh+=1\n",
        "                    row[min_index] = max_value\n",
        "                    if neigh == k:\n",
        "                        return k_neighbors_index\n",
        "\n",
        "\n",
        "    def P_matrix(self, W, n_case_id, name):\n",
        "        print('Calculating P matrix for {}...'.format(name))\n",
        "        P=[]\n",
        "        for i in tqdm(range(0, n_case_id)):\n",
        "            row=[]\n",
        "            for j in range(0,n_case_id):\n",
        "                if i==j:\n",
        "                    row.append(1/2)\n",
        "\n",
        "                else:\n",
        "                    k_neighbors = self.find_k_neighbors(W[i], i)\n",
        "                    denominator = 2*sum(k_neighbors)\n",
        "                    row.append(W[i][j]/denominator)\n",
        "            P.append(row)\n",
        "        print(np.array(P))\n",
        "        return np.array(P)\n",
        "\n",
        "    def S_matrix(self, W, n_case_id, name):\n",
        "        print('Calculating S matrix for {}...'.format(name))\n",
        "        S=[]\n",
        "        for i in tqdm(range(0, n_case_id)):\n",
        "            S_row=[]\n",
        "            neighbors_indeces = self.find_k_neighbors(self.df_dist.iloc[i,:].to_numpy().tolist(), i, self.k)\n",
        "            for j in range(0,n_case_id):\n",
        "                if j not in neighbors_indeces:\n",
        "                    S_row.append(0)\n",
        "\n",
        "                else:\n",
        "                    np_row = np.array(W[i])\n",
        "                    denominator = sum(np_row[neighbors_indeces])\n",
        "                    S_row.append(W[i][j]/denominator)\n",
        "            S.append(S_row)\n",
        "        print(np.array(S))\n",
        "        return np.array(S)\n",
        "    \n",
        "    def product_matrix(self, S_matrix, P_matrix):\n",
        "        result = np.dot(S_matrix, P_matrix)\n",
        "        result = np.dot(result, S_matrix.T)\n",
        "        return result\n",
        "    \n",
        "    def sum_matrix_P(self, P1, P2):\n",
        "        return np.add(P1,P2)/2\n",
        "    \n",
        "    def fit(self, num_iter=None):\n",
        "        if num_iter is not None:\n",
        "            self.p_rna = self.starting_p_rna\n",
        "            self.p_mirna = self.starting_p_mirna\n",
        "            self.p_illumina = self.starting_p_illumina\n",
        "            for i in range(0, num_iter):\n",
        "                self.p_rna_t1 = self.product_matrix(self.s_rna, self.sum_matrix_P(self.p_mirna, self.p_illumina))\n",
        "                self.p_mirna_t1 = self.product_matrix(self.s_mirna, self.sum_matrix_P(self.p_rna, self.p_illumina))\n",
        "                self.p_illumina_t1 = self.product_matrix(self.s_illumina, self.sum_matrix_P(self.p_mirna, self.p_rna))\n",
        "                print(self.p_rna_t1)\n",
        "                print(self.p_mirna_t1)\n",
        "                print(self.p_illumina_t1)\n",
        "                self.p_rna = self.p_rna_t1\n",
        "                self.p_mirna = self.p_mirna_t1\n",
        "                self.p_illumina = self.p_illumina_t1\n",
        "        else:\n",
        "            print('ciao')\n",
        "\n",
        "        return self\n",
        "    \n",
        "    def modified_fit(self, matrices_diff=None, max_iter=100):\n",
        "        if matrices_diff is not None:\n",
        "            self.p_rna = self.starting_p_rna\n",
        "            self.p_mirna = self.starting_p_mirna\n",
        "            self.p_illumina = self.starting_p_illumina\n",
        "            for i in range(0, max_iter):\n",
        "                self.p_rna_t1 = self.product_matrix(self.s_rna, self.sum_matrix_P(self.p_mirna, self.p_illumina))\n",
        "                self.p_mirna_t1 = self.product_matrix(self.s_mirna, self.sum_matrix_P(self.p_rna, self.p_illumina))\n",
        "                self.p_illumina_t1 = self.product_matrix(self.s_illumina, self.sum_matrix_P(self.p_mirna, self.p_rna))\n",
        "                print(self.p_rna_t1)\n",
        "                print(self.p_mirna_t1)\n",
        "                print(self.p_illumina_t1)\n",
        "                self.p_rna = self.p_rna_t1\n",
        "                self.p_mirna = self.p_mirna_t1\n",
        "                self.p_illumina = self.p_illumina_t1\n",
        "                \n",
        "                diff_matrix = np.abs(np.subtract(self.p_rna, self.p_mirna)) + np.abs(np.subtract(self.p_rna, self.p_illumina)) + np.abs(np.subtract(self.p_mirna, self.p_illumina))\n",
        "                #diff_matrix= np.abs(np.mean(diff_matrix))\n",
        "                if diff_matrix<=np.abs(matrices_diff):\n",
        "                    print('number of iterations to reach difference: ', i)\n",
        "                    break\n",
        "                    \n",
        "                if i == max_iter-1: ##impossible to reach matrices difference\n",
        "                    print('impossible to reach indicated difference, try with a bigger difference value')\n",
        "        else:\n",
        "            print('no difference for matrices found')\n",
        "\n",
        "        return self\n",
        "    \n",
        "    def clean(self):\n",
        "        del self.p_rna\n",
        "        del self.p_mirna\n",
        "        del self.p_illumina\n",
        "        \n",
        "        del self.p_rna_t1\n",
        "        del self.p_mirna_t1\n",
        "        del self.p_illumina_t1\n",
        "        \n",
        "        \n",
        "        del self.w_rna\n",
        "        del self.w_mirna\n",
        "        del self.w_illumina\n",
        "        \n",
        "        return self"
      ],
      "outputs": [],
      "execution_count": 22,
      "metadata": {
        "gather": {
          "logged": 1608997164227
        }
      }
    },
    {
      "cell_type": "code",
      "source": [
        "df_mirna.sort_values(by='case_id', inplace=True)\n",
        "df_rna.sort_values(by='case_id', inplace=True)\n",
        "df_illumina.sort_values(by='case_id', inplace=True)\n",
        "\n",
        "sm = SimilarityNetworkFusion(df_mirna.drop_duplicates(subset='case_id'),\n",
        "                            df_rna.drop_duplicates(subset='case_id'),\n",
        "                            df_illumina.drop_duplicates(subset='case_id'), k=100).calculate_matrix()"
      ],
      "outputs": [
        {
          "output_type": "stream",
          "name": "stdout",
          "text": [
            "Calculating weights for RNA...\n",
            "Calculating weights for miRNA...\n",
            "Calculating weights for Illumina...\n",
            "Calculating P matrix for RNA...\n",
            "[[5.00000000e-01 5.38059625e-16 1.43713926e-16 ... 5.45904233e-15\n",
            "  4.73343067e-28 3.29703178e-06]\n",
            " [1.29200810e-12 5.00000000e-01 1.89925577e-13 ... 1.48485898e-15\n",
            "  3.30019218e-14 1.81773736e-18]\n",
            " [3.29241003e-11 1.81202291e-11 5.00000000e-01 ... 2.26883654e-13\n",
            "  1.27351785e-24 1.07598270e-12]\n",
            " ...\n",
            " [1.07876004e-13 1.22196500e-17 1.95702572e-17 ... 5.00000000e-01\n",
            "  1.47603290e-27 2.78694656e-17]\n",
            " [2.92732884e-17 8.49962744e-07 3.43783846e-19 ... 4.61937414e-18\n",
            "  5.00000000e-01 4.56770793e-18]\n",
            " [1.04846349e-13 2.40727928e-29 1.49355219e-25 ... 4.48487588e-26\n",
            "  2.34872955e-36 5.00000000e-01]]\n",
            "Calculating P matrix for miRNA...\n",
            "[[5.00000000e-01 1.63090220e-06 1.44113494e-03 ... 1.27786186e-03\n",
            "  2.65991267e-07 1.38426830e-03]\n",
            " [2.33900874e-05 5.00000000e-01 4.15366257e-03 ... 1.02811795e-04\n",
            "  1.38649576e-04 1.84574997e-04]\n",
            " [4.94117356e-04 9.93008001e-05 5.00000000e-01 ... 2.23934709e-04\n",
            "  8.90456947e-08 2.33756922e-03]\n",
            " ...\n",
            " [4.60623390e-04 2.58405107e-06 2.35427954e-04 ... 5.00000000e-01\n",
            "  8.29216909e-09 1.57797015e-03]\n",
            " [5.56463666e-05 2.02247915e-03 5.43321510e-05 ... 4.81255280e-06\n",
            "  5.00000000e-01 1.38381274e-03]\n",
            " [3.09816882e-04 2.88040628e-06 1.52589210e-03 ... 9.79764077e-04\n",
            "  1.48044642e-06 5.00000000e-01]]\n",
            "Calculating P matrix for Illumina...\n",
            "[[5.00000000e-001 2.09039103e-030 7.58147863e-103 ... 3.03452844e-045\n",
            "  8.62611639e-046 1.84204372e-044]\n",
            " [1.07457531e-017 5.00000000e-001 1.09027658e-091 ... 1.83753312e-029\n",
            "  1.15723156e-013 3.20908584e-040]\n",
            " [8.84496779e-085 2.47439881e-086 5.00000000e-001 ... 5.56223530e-041\n",
            "  2.49268411e-069 2.01366570e-099]\n",
            " ...\n",
            " [5.85494876e-029 6.89696049e-026 9.19896366e-043 ... 5.00000000e-001\n",
            "  3.48227370e-021 7.65101575e-054]\n",
            " [1.06189470e-028 2.77125881e-009 2.63021376e-070 ... 2.22176006e-020\n",
            "  5.00000000e-001 4.59679061e-047]\n",
            " [1.72259357e-041 5.83787644e-050 1.61409064e-114 ... 3.70825932e-067\n",
            "  3.49197776e-061 5.00000000e-001]]\n",
            "Calculating S matrix for RNA...\n",
            "[[1.00000000e+00 0.00000000e+00 0.00000000e+00 ... 0.00000000e+00\n",
            "  0.00000000e+00 0.00000000e+00]\n",
            " [0.00000000e+00 1.00000000e+00 0.00000000e+00 ... 0.00000000e+00\n",
            "  0.00000000e+00 0.00000000e+00]\n",
            " [0.00000000e+00 0.00000000e+00 1.00000000e+00 ... 0.00000000e+00\n",
            "  0.00000000e+00 0.00000000e+00]\n",
            " ...\n",
            " [0.00000000e+00 0.00000000e+00 0.00000000e+00 ... 1.00000000e+00\n",
            "  0.00000000e+00 0.00000000e+00]\n",
            " [0.00000000e+00 3.46565654e-31 0.00000000e+00 ... 0.00000000e+00\n",
            "  1.00000000e+00 0.00000000e+00]\n",
            " [8.31388821e-20 0.00000000e+00 0.00000000e+00 ... 0.00000000e+00\n",
            "  0.00000000e+00 9.99999828e-01]]\n",
            "Calculating S matrix for miRNA...\n",
            "[[9.51702173e-01 0.00000000e+00 0.00000000e+00 ... 0.00000000e+00\n",
            "  0.00000000e+00 0.00000000e+00]\n",
            " [0.00000000e+00 9.93235342e-01 0.00000000e+00 ... 0.00000000e+00\n",
            "  0.00000000e+00 0.00000000e+00]\n",
            " [0.00000000e+00 0.00000000e+00 8.88517830e-01 ... 0.00000000e+00\n",
            "  0.00000000e+00 0.00000000e+00]\n",
            " ...\n",
            " [0.00000000e+00 0.00000000e+00 0.00000000e+00 ... 8.26167303e-01\n",
            "  0.00000000e+00 0.00000000e+00]\n",
            " [0.00000000e+00 3.87368061e-06 0.00000000e+00 ... 0.00000000e+00\n",
            "  9.99310066e-01 0.00000000e+00]\n",
            " [4.32474053e-04 0.00000000e+00 0.00000000e+00 ... 0.00000000e+00\n",
            "  0.00000000e+00 7.79167545e-01]]\n",
            "Calculating S matrix for Illumina...\n",
            "[[1.00000000e+00 0.00000000e+00 0.00000000e+00 ... 0.00000000e+00\n",
            "  0.00000000e+00 0.00000000e+00]\n",
            " [0.00000000e+00 1.00000000e+00 0.00000000e+00 ... 0.00000000e+00\n",
            "  0.00000000e+00 0.00000000e+00]\n",
            " [0.00000000e+00 0.00000000e+00 1.00000000e+00 ... 0.00000000e+00\n",
            "  0.00000000e+00 0.00000000e+00]\n",
            " ...\n",
            " [0.00000000e+00 0.00000000e+00 0.00000000e+00 ... 1.00000000e+00\n",
            "  0.00000000e+00 0.00000000e+00]\n",
            " [0.00000000e+00 1.62141762e-35 0.00000000e+00 ... 0.00000000e+00\n",
            "  1.00000000e+00 0.00000000e+00]\n",
            " [1.32673405e-53 0.00000000e+00 0.00000000e+00 ... 0.00000000e+00\n",
            "  0.00000000e+00 1.00000000e+00]]\n"
          ]
        },
        {
          "output_type": "stream",
          "name": "stderr",
          "text": [
            "100%|██████████| 449/449 [01:34<00:00,  4.74it/s]\n",
            "100%|██████████| 449/449 [01:34<00:00,  4.77it/s]\n",
            "100%|██████████| 449/449 [01:33<00:00,  4.78it/s]\n",
            "100%|██████████| 449/449 [04:02<00:00,  1.85it/s]\n",
            "100%|██████████| 449/449 [04:01<00:00,  1.86it/s]\n",
            "100%|██████████| 449/449 [04:01<00:00,  1.86it/s]\n",
            "100%|██████████| 449/449 [00:04<00:00, 93.92it/s]\n",
            "100%|██████████| 449/449 [00:04<00:00, 94.54it/s] \n",
            "100%|██████████| 449/449 [00:04<00:00, 93.61it/s]\n"
          ]
        }
      ],
      "execution_count": 23,
      "metadata": {
        "gather": {
          "logged": 1608998195326
        }
      }
    },
    {
      "cell_type": "code",
      "source": [
        "from scipy.spatial.distance import cdist\n",
        "\n",
        "def modified_fit(sm, matrices_diff=None, max_iter=100):\n",
        "        if matrices_diff is not None:\n",
        "            sm.p_rna = sm.starting_p_rna\n",
        "            sm.p_mirna = sm.starting_p_mirna\n",
        "            sm.p_illumina = sm.starting_p_illumina\n",
        "            for step in range(0, max_iter):\n",
        "                sm.p_rna_t1 = sm.product_matrix(sm.s_rna, sm.sum_matrix_P(sm.p_mirna, sm.p_illumina))\n",
        "                sm.p_mirna_t1 = sm.product_matrix(sm.s_mirna, sm.sum_matrix_P(sm.p_rna, sm.p_illumina))\n",
        "                sm.p_illumina_t1 = sm.product_matrix(sm.s_illumina, sm.sum_matrix_P(sm.p_mirna, sm.p_rna))\n",
        "               \n",
        "                sm.p_rna = sm.p_rna_t1\n",
        "                sm.p_mirna = sm.p_mirna_t1\n",
        "                sm.p_illumina = sm.p_illumina_t1\n",
        "\n",
        "                diff_matrix = 0\n",
        "                for i in range(0, len(sm.p_rna)):\n",
        "                    for j in range(i, len(sm.p_rna)):\n",
        "                        diff_matrix += np.abs(sm.p_rna[i][j] - sm.p_mirna[i][j])\n",
        "                        diff_matrix += np.abs(sm.p_illumina[i][j] - sm.p_mirna[i][j])\n",
        "                        diff_matrix += np.abs(sm.p_illumina[i][j] - sm.p_rna[i][j])\n",
        "                \n",
        "                diff_matrix = diff_matrix**0.5\n",
        "                print(step, ':', diff_matrix)\n",
        "                \n",
        "                #diff_matrix = np.abs(np.subtract(sm.p_rna, sm.p_mirna)) + np.abs(np.subtract(sm.p_rna, sm.p_illumina)) + np.abs(np.subtract(sm.p_mirna, sm.p_illumina))\n",
        "                #diff_matrix= np.abs(np.mean(diff_matrix))\n",
        "                if diff_matrix<=np.abs(matrices_diff):\n",
        "                    print('number of iterations to reach difference: ', step)\n",
        "                    break\n",
        "                    \n",
        "                if step == max_iter-1: ##impossible to reach matrices difference\n",
        "                    print('impossible to reach indicated difference, try with a bigger difference value')\n",
        "        else:\n",
        "            print('no difference for matrices found')\n",
        "\n",
        "        return sm"
      ],
      "outputs": [],
      "execution_count": 33,
      "metadata": {
        "collapsed": true,
        "jupyter": {
          "source_hidden": false,
          "outputs_hidden": false
        },
        "nteract": {
          "transient": {
            "deleting": false
          }
        },
        "gather": {
          "logged": 1608999499966
        }
      }
    },
    {
      "cell_type": "code",
      "source": [
        "modified_fit(sm, matrices_diff=3)"
      ],
      "outputs": [
        {
          "output_type": "stream",
          "name": "stdout",
          "text": [
            "0 : 24.616214374108893\n",
            "1 : 17.738718104738822\n",
            "2 : 15.013364509285433\n",
            "3 : 12.651873011104975\n",
            "4 : 11.280717926921973\n",
            "5 : 10.215921341655836\n",
            "6 : 9.418807965687215\n",
            "7 : 8.767844963563164\n",
            "8 : 8.2267244410242\n",
            "9 : 7.763036226766368\n",
            "10 : 7.359784435696586\n",
            "11 : 7.003708090439803\n",
            "12 : 6.686646021908226\n",
            "13 : 6.403057083130548\n",
            "14 : 6.147694060024382\n",
            "15 : 5.916847548652389\n",
            "16 : 5.707273887383818\n",
            "17 : 5.51687115950872\n",
            "18 : 5.343303839175281\n",
            "19 : 5.184556840234193\n",
            "20 : 5.039045905770055\n",
            "21 : 4.90522234227554\n",
            "22 : 4.781688795604559\n",
            "23 : 4.667287186191647\n",
            "24 : 4.561103123844948\n",
            "25 : 4.462361250328064\n",
            "26 : 4.370224833503684\n",
            "27 : 4.284089048265311\n",
            "28 : 4.203382284567481\n",
            "29 : 4.12775459936376\n",
            "30 : 4.056740444933242\n",
            "31 : 3.989825571987176\n",
            "32 : 3.9266698883457196\n",
            "33 : 3.8669103496519353\n",
            "34 : 3.8102959002650345\n",
            "35 : 3.756638743746316\n",
            "36 : 3.705665969345104\n",
            "37 : 3.6572203954188818\n",
            "38 : 3.6110734914745284\n",
            "39 : 3.567020317722567\n",
            "40 : 3.524894458859062\n",
            "41 : 3.484609792666983\n",
            "42 : 3.4460653694965413\n",
            "43 : 3.4091070638419194\n",
            "44 : 3.37358921171367\n",
            "45 : 3.339425547390628\n",
            "46 : 3.3065051081034857\n",
            "47 : 3.274723318684447\n",
            "48 : 3.2440189481569344\n",
            "49 : 3.2143724419873796\n",
            "50 : 3.185701322526063\n",
            "51 : 3.1579452424168046\n",
            "52 : 3.1310328835054384\n",
            "53 : 3.1048943329297525\n",
            "54 : 3.079486131020882\n",
            "55 : 3.0547827579137268\n",
            "56 : 3.03074627650736\n",
            "57 : 3.007354011800828\n",
            "58 : 2.984557579941867\n",
            "number of iterations to reach difference:  58\n"
          ]
        },
        {
          "output_type": "execute_result",
          "execution_count": 45,
          "data": {
            "text/plain": "<__main__.SimilarityNetworkFusion at 0x7f90d9549898>"
          },
          "metadata": {}
        }
      ],
      "execution_count": 45,
      "metadata": {
        "collapsed": true,
        "jupyter": {
          "source_hidden": false,
          "outputs_hidden": false
        },
        "nteract": {
          "transient": {
            "deleting": false
          }
        },
        "gather": {
          "logged": 1608999822774
        }
      }
    },
    {
      "cell_type": "code",
      "source": [
        "sm.fit(num_iter=50)"
      ],
      "outputs": [],
      "execution_count": null,
      "metadata": {
        "gather": {
          "logged": 1608996943544
        }
      }
    },
    {
      "cell_type": "code",
      "source": [
        "import plotly.graph_objects as go\n",
        "\n",
        "def plot_starting_graphs(df, y_pred):\n",
        "    G = nx.from_numpy_matrix(df)\n",
        "    print(nx.info(G))\n",
        "    nx.draw_networkx(G, with_labels=False)\n",
        "    return"
      ],
      "outputs": [],
      "execution_count": null,
      "metadata": {}
    },
    {
      "cell_type": "code",
      "source": [
        "plot_starting_graphs(sm.p_rna, y_pred)"
      ],
      "outputs": [],
      "execution_count": null,
      "metadata": {}
    },
    {
      "cell_type": "markdown",
      "source": [
        "# Loading the label"
      ],
      "metadata": {}
    },
    {
      "cell_type": "code",
      "source": [
        "y_illumina = LabelEncoder().fit_transform(df_illumina.drop_duplicates(subset='case_id').loc[:, 'label'].transform(lambda x: str(x)))\n",
        "y_mirna = LabelEncoder().fit_transform(df_mirna.drop_duplicates(subset='case_id').loc[:, 'label'].transform(lambda x:  str(x)))\n",
        "y_rna = LabelEncoder().fit_transform(df_rna.drop_duplicates(subset='case_id').loc[:, 'label'].transform(lambda x: str(x)))"
      ],
      "outputs": [],
      "execution_count": 46,
      "metadata": {
        "gather": {
          "logged": 1608999830516
        }
      }
    },
    {
      "cell_type": "code",
      "source": [
        "y_pred = SpectralClustering(n_clusters=3, affinity='precomputed').fit(sm.p_mirna).labels_"
      ],
      "outputs": [
        {
          "output_type": "stream",
          "name": "stderr",
          "text": [
            "/anaconda/envs/azureml_py36/lib/python3.6/site-packages/sklearn/manifold/_spectral_embedding.py:212: UserWarning: Array is not symmetric, and will be converted to symmetric by average with its transpose.\n",
            "  adjacency = check_symmetric(adjacency)\n"
          ]
        }
      ],
      "execution_count": 47,
      "metadata": {
        "gather": {
          "logged": 1608999833044
        }
      }
    },
    {
      "cell_type": "code",
      "source": [
        "print('Rand Score:')\n",
        "print('\\tIllumina', adjusted_rand_score(y_illumina, y_pred))\n",
        "print('\\tMirna', adjusted_rand_score(y_mirna, y_pred))\n",
        "print('\\tRNA:', adjusted_rand_score(y_rna, y_pred))\n",
        "print('\\tmean:', (adjusted_rand_score(y_rna, y_pred) + adjusted_rand_score(y_illumina, y_pred) + adjusted_rand_score(y_mirna, y_pred))/3)\n",
        "\n",
        "print('\\n')\n",
        "print('Silhouette score:')\n",
        "print('\\tIllumina', silhouette_score(sm.p_illumina, y_pred))\n",
        "print('\\tMirna', silhouette_score(sm.p_mirna, y_pred))\n",
        "print('\\tRNA:', silhouette_score(sm.p_rna, y_pred))"
      ],
      "outputs": [
        {
          "output_type": "stream",
          "name": "stdout",
          "text": [
            "Rand Score:\n",
            "\tIllumina 0.8188601789932898\n",
            "\tMirna 0.7970092411463793\n",
            "\tRNA: 0.7702807590377818\n",
            "\tmean: 0.7953833930591503\n",
            "\n",
            "\n",
            "Silhouette score:\n",
            "\tIllumina 0.22158839680613623\n",
            "\tMirna 0.22248530225416602\n",
            "\tRNA: 0.22158837971758452\n"
          ]
        }
      ],
      "execution_count": 50,
      "metadata": {
        "gather": {
          "logged": 1608999884714
        }
      }
    },
    {
      "cell_type": "code",
      "source": [
        "y_pred = KMeans(n_clusters=3).fit(sm.p_mirna).labels_\n",
        "print('Rand Score:')\n",
        "print('\\tIllumina', adjusted_rand_score(y_illumina, y_pred))\n",
        "print('\\tMirna', adjusted_rand_score(y_mirna, y_pred))\n",
        "print('\\tRNA:', adjusted_rand_score(y_rna, y_pred))\n",
        "print('\\n')\n",
        "print('Silhouette score:')\n",
        "print('\\tIllumina', silhouette_score(sm.p_illumina, y_pred))\n",
        "print('\\tMirna', silhouette_score(sm.p_mirna, y_pred))\n",
        "print('\\tRNA:', silhouette_score(sm.p_rna, y_pred))"
      ],
      "outputs": [],
      "execution_count": null,
      "metadata": {}
    },
    {
      "cell_type": "code",
      "source": [
        "#####SI POTREBBE UTILIZZARE COME CONDIZIONE DI TERMINAZIONE CON UN CERTO VALORE\n",
        "diff_matrix = np.abs(np.subtract(sm.p_rna, sm.p_mirna), sm.p_illumina)\n",
        "print(np.mean(diff_matrix))"
      ],
      "outputs": [],
      "execution_count": null,
      "metadata": {}
    }
  ],
  "metadata": {
    "kernelspec": {
      "display_name": "Python 3",
      "language": "python",
      "name": "python3"
    },
    "language_info": {
      "name": "python",
      "version": "3.6.9",
      "mimetype": "text/x-python",
      "codemirror_mode": {
        "name": "ipython",
        "version": 3
      },
      "pygments_lexer": "ipython3",
      "nbconvert_exporter": "python",
      "file_extension": ".py"
    },
    "nteract": {
      "version": "nteract-front-end@1.0.0"
    }
  },
  "nbformat": 4,
  "nbformat_minor": 2
}