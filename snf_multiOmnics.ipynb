{
 "cells": [
  {
   "cell_type": "code",
   "execution_count": 1,
   "metadata": {},
   "outputs": [],
   "source": [
    "import pandas as pd\n",
    "import numpy as np\n",
    "import json\n",
    "import os\n",
    "\n",
    "from tqdm import tqdm\n",
    "from sklearn.preprocessing import StandardScaler\n",
    "\n",
    "from myclass.CleanMergeDataset import Clean_Merge_Dataset\n",
    "from myclass.BonferroniTtest import Bonferroni_Ttest"
   ]
  },
  {
   "cell_type": "code",
   "execution_count": 2,
   "metadata": {},
   "outputs": [],
   "source": [
    "if os.path.exists('final_dataset_common.json') is False:\n",
    "\n",
    "    data_normal = pd.read_pickle('./data-ready/RNA_dataframe_normal').replace('/', '\\\\')\n",
    "    data_tumor = pd.read_pickle('./data-ready/RNA_dataframe').replace('/', '\\\\')\n",
    "    dataset_RNA, y_RNA, cases_id_RNA = Clean_Merge_Dataset(name='RNA').transform(data_normal, data_tumor)\n",
    "    df_RNA = pd.concat([dataset_RNA, cases_id_RNA], axis=1)\n",
    "\n",
    "    data_normal = pd.read_pickle('./data-ready/miRNA_dataframe_normal').replace('/', '\\\\')\n",
    "    data_tumor = pd.read_pickle('./data-ready/miRNA_dataframe').replace('/', '\\\\')\n",
    "    dataset_miRNA, y_miRNA, cases_id_miRNA= Clean_Merge_Dataset(name='miRNA').transform(data_normal, data_tumor)\n",
    "    df_miRNA = pd.concat([dataset_miRNA, cases_id_miRNA], axis=1)\n",
    "\n",
    "    data_normal = pd.read_pickle('./data-ready/illumina-27-450-normal').replace('/', '\\\\')\n",
    "    data_tumor = pd.read_pickle('./data-ready/illumina450-27-tumor').replace('/', '\\\\')\n",
    "    dataset_illumina, y_illumina, cases_id_illumina= Clean_Merge_Dataset(name='illumina').transform(data_normal, data_tumor)\n",
    "    df_illumina = pd.concat([dataset_illumina, cases_id_illumina], axis=1)\n",
    "\n",
    "    dataset_RNA = Bonferroni_Ttest(label_case_id_into_X=True, alpha=0.05).fit_transform(pd.concat([df_RNA, y_RNA], axis=1), y_RNA)\n",
    "    dataset_miRNA = Bonferroni_Ttest(label_case_id_into_X=True, alpha=0.05).fit_transform(pd.concat([df_miRNA, y_miRNA], axis=1), y_miRNA)\n",
    "    dataset_illumina = Bonferroni_Ttest(label_case_id_into_X=True, alpha=0.05).fit_transform(pd.concat([df_illumina, y_illumina], axis=1), y_illumina)\n",
    "\n",
    "    cases_id = set(dataset_illumina['case_id']) & set(dataset_miRNA['case_id']) & set(dataset_RNA['case_id'])\n",
    "    df_final_illumina = dataset_illumina.loc[dataset_illumina['case_id'].isin(cases_id)]\n",
    "    df_final_rna = dataset_RNA.loc[dataset_RNA['case_id'].isin(cases_id)]\n",
    "    df_final_mirna = dataset_miRNA.loc[dataset_miRNA['case_id'].isin(cases_id)]\n",
    "\n",
    "    print(df_final_illumina.shape)\n",
    "    print(df_final_rna.shape)\n",
    "    print(df_final_mirna.shape)\n",
    "    \n",
    "    df_final_illumina.to_pickle('illumina_pickle.pkl')\n",
    "    df_final_rna.to_pickle('rna_pickle.pkl')\n",
    "    df_final_mirna.to_pickle('miRNA_pickle.pkl')\n",
    "    \n",
    "    my_dict = {\n",
    "        'miRNA': df_final_mirna.to_dict(),\n",
    "        'RNA': df_final_rna.to_dict(),\n",
    "        'illumina': df_final_illumina.to_dict()\n",
    "    }\n",
    "    with open('final_dataset_common.json', 'w') as outfile:\n",
    "        json.dump(my_dict, outfile)\n",
    "    \n",
    "    df_illumina = df_final_illumina.copy()\n",
    "    df_mirna = df_final_mirna.copy()\n",
    "    df_rna = df_final_rna.copy()\n",
    "    \n",
    "    del my_dict\n",
    "    del df_final_illumina\n",
    "    del df_final_rna\n",
    "    del df_final_mirna\n",
    "    del dataset_illumina\n",
    "    del dataset_RNA\n",
    "    del dataset_miRNA\n",
    "else:\n",
    "    df_illumina = pd.read_pickle('illumina_pickle.pkl')\n",
    "    df_mirna = pd.read_pickle('miRNA_pickle.pkl')\n",
    "    df_rna = pd.read_pickle('rna_pickle.pkl')"
   ]
  },
  {
   "cell_type": "code",
   "execution_count": 3,
   "metadata": {},
   "outputs": [],
   "source": [
    "import numpy as np\n",
    "import pandas as pd\n",
    "\n",
    "from scipy.spatial.distance import pdist, squareform\n",
    "from copy import deepcopy\n",
    "from sklearn.preprocessing import StandardScaler\n",
    "\n",
    "class SimilarityNetworkFusion:\n",
    "    def __init__(self, df_mirna, df_rna, df_illumina, k=3):\n",
    "        \n",
    "        self.cases_id = df_rna.loc[:, 'case_id']\n",
    "        self.rna = df_rna.copy()\n",
    "        self.mirna = df_mirna.copy()\n",
    "        self.illumina = df_illumina.copy()\n",
    "        \n",
    "        self.k = k\n",
    "        self.check_columns()\n",
    "    \n",
    "    def calculate_matrix(self):\n",
    "        self.w_rna = self.__weights__(self.rna, 'RNA')\n",
    "        self.w_mirna = self.__weights__(self.mirna, 'miRNA')\n",
    "        self.w_illumina = self.__weights__(self.illumina, 'Illumina')\n",
    "        \n",
    "        self.p_rna = self.P_matrix(self.w_rna.to_numpy().tolist(), self.cases_id.shape[0], 'RNA')\n",
    "        self.p_mirna = self.P_matrix(self.w_mirna.to_numpy().tolist(), self.cases_id.shape[0], 'miRNA')\n",
    "        self.p_illumina = self.P_matrix(self.w_illumina.to_numpy().tolist(), self.cases_id.shape[0], 'Illumina')\n",
    "        \n",
    "        self.s_rna = self.S_matrix(self.w_rna.to_numpy().tolist(), self.cases_id.shape[0], 'RNA')\n",
    "        self.s_mirna = self.S_matrix(self.w_mirna.to_numpy().tolist(), self.cases_id.shape[0], 'miRNA')\n",
    "        self.s_illumina = self.S_matrix(self.w_illumina.to_numpy().tolist(), self.cases_id.shape[0], 'Illumina')\n",
    "        \n",
    "        return self\n",
    "        \n",
    "\n",
    "    def __weights__(self, dataset, name):\n",
    "        print('Calculating weights for {}...'.format(name))\n",
    "        df = pd.DataFrame(columns=self.cases_id, data=dataset.T.values)\n",
    "        \n",
    "        #calculate euclidean distance\n",
    "        dist = pdist(dataset, 'euclidean')\n",
    "        df_dist = pd.DataFrame(columns=self.cases_id, index=self.cases_id, data=squareform(dist))\n",
    "        weights = df.cov()**2\n",
    "                \n",
    "        for i, patient_i in enumerate(tqdm(self.cases_id)):\n",
    "            for patient_j in self.cases_id.iloc[i:]:\n",
    "                    topK_i_mean = np.sort(df_dist.loc[patient_i, :].to_numpy())[:self.k].mean()\n",
    "                    topK_j_mean = np.sort(df_dist.loc[patient_j, :].to_numpy())[:self.k].mean()\n",
    "                    \n",
    "                    mean = (topK_i_mean + topK_j_mean)/2\n",
    "\n",
    "                    weights.loc[patient_i, patient_j] = np.exp(-(weights.loc[patient_i, patient_j]/mean))\n",
    "                    weights.loc[patient_j, patient_i] = np.exp(-(weights.loc[patient_j, patient_i]/mean))\n",
    "                    \n",
    "        return weights        \n",
    "    \n",
    "    def check_columns(self):\n",
    "        scaler = StandardScaler()\n",
    "        if 'label' in self.mirna.columns:\n",
    "            self.mirna.drop(['label'], axis=1, inplace=True)\n",
    "        if 'case_id' in self.mirna.columns:\n",
    "            self.mirna.drop(['case_id'], axis=1, inplace=True)\n",
    "            \n",
    "        if 'label' in self.rna.columns:\n",
    "            self.rna.drop(['label'], axis=1, inplace=True)\n",
    "        if 'case_id' in self.rna.columns:\n",
    "            self.rna.drop(['case_id'], axis=1, inplace=True)\n",
    "            \n",
    "        if 'label' in self.illumina.columns:\n",
    "            self.illumina.drop(['label'], axis=1, inplace=True)\n",
    "        if 'case_id' in self.illumina.columns:\n",
    "            self.illumina.drop(['case_id'], axis=1, inplace=True)\n",
    "            \n",
    "        self.mirna = pd.DataFrame(scaler.fit_transform(self.mirna))\n",
    "        self.rna = pd.DataFrame(scaler.fit_transform(self.rna))\n",
    "        self.illumina = pd.DataFrame(scaler.fit_transform(self.illumina))\n",
    "\n",
    "        return\n",
    "\n",
    "\n",
    "    def find_k_neighbors(self, row, i, k=None): \n",
    "        row=deepcopy(row)\n",
    "        #case of P matrix\n",
    "        if k==None:\n",
    "            del row[i]  #delete element of the same column of row index\n",
    "            return row\n",
    "\n",
    "        #case of S (find k elements with minimum distance value of W[i][j])\n",
    "        else:\n",
    "            k_neighbors_index=[]\n",
    "            neigh = 0\n",
    "            max_value = max(row)\n",
    "            for j in range(0, len(row)):\n",
    "                if j!=i:\n",
    "                    min_index = row.index(min(row))\n",
    "                    k_neighbors_index.append(min_index)\n",
    "                    neigh+=1\n",
    "                    row[min_index] = max_value\n",
    "                    if neigh == k:\n",
    "                        return k_neighbors_index\n",
    "\n",
    "\n",
    "    def P_matrix(self, W, n_case_id, name):\n",
    "        print('Calculating P matrix for {}...'.format(name))\n",
    "        P=[]\n",
    "        for i in tqdm(range(0, n_case_id)):\n",
    "            row=[]\n",
    "            for j in range(0,n_case_id):\n",
    "                if i==j:\n",
    "                    row.append(1/2)\n",
    "\n",
    "                else:\n",
    "                    k_neighbors = self.find_k_neighbors(W[i], i)\n",
    "                    denominator = 2*sum(k_neighbors)\n",
    "                    row.append(W[i][j]/denominator)\n",
    "            P.append(row)\n",
    "        print(np.array(P))\n",
    "        return np.array(P)\n",
    "\n",
    "    def S_matrix(self, W, n_case_id, name):\n",
    "        print('Calculating S matrix for {}...'.format(name))\n",
    "        S=[]\n",
    "        for i in tqdm(range(0, n_case_id)):\n",
    "            S_row=[]\n",
    "            neighbors_indeces = self.find_k_neighbors(W[i], i, self.k)\n",
    "            for j in range(0,n_case_id):\n",
    "                if j not in neighbors_indeces:\n",
    "                    S_row.append(0)\n",
    "\n",
    "                else:\n",
    "                    np_row = np.array(W[i])\n",
    "                    denominator = sum(np_row[neighbors_indeces])\n",
    "                    S_row.append(W[i][j]/denominator)\n",
    "            S.append(S_row)\n",
    "        print(np.array(S))\n",
    "        return np.array(S)\n",
    "    \n",
    "    def product_matrix(self, S_matrix, P_matrix):\n",
    "        result = np.dot(S_matrix, P_matrix)\n",
    "        result = np.dot(result, S_matrix.T)\n",
    "        return result\n",
    "    \n",
    "    def sum_matrix_P(self, P1, P2):\n",
    "        return np.add(P1,P2)/2\n",
    "    \n",
    "    def fit(self, num_iter=None):\n",
    "        if num_iter is not None:\n",
    "            for i in range(0, num_iter):\n",
    "                self.p_rna_t1 = self.product_matrix(self.s_rna, self.sum_matrix_P(self.p_mirna, self.p_illumina))\n",
    "                self.p_mirna_t1 = self.product_matrix(self.s_mirna, self.sum_matrix_P(self.p_rna, self.p_illumina))\n",
    "                self.p_illumina_t1 = self.product_matrix(self.s_illumina, self.sum_matrix_P(self.p_mirna, self.p_rna))\n",
    "                print(self.p_rna_t1)\n",
    "                print(self.p_mirna_t1)\n",
    "                print(self.p_illumina_t1)\n",
    "                self.p_rna = self.p_rna_t1\n",
    "                self.p_mirna = self.p_mirna_t1\n",
    "                self.p_illumina = self.p_illumina_t1\n",
    "        else:\n",
    "            print('ciao')\n",
    "        return"
   ]
  },
  {
   "cell_type": "code",
   "execution_count": 4,
   "metadata": {},
   "outputs": [
    {
     "name": "stdout",
     "output_type": "stream",
     "text": [
      "Calculating weights for RNA...\n"
     ]
    },
    {
     "name": "stderr",
     "output_type": "stream",
     "text": [
      "100%|████████████████████████████████████████████████████████████████████████████████| 449/449 [02:01<00:00,  3.68it/s]\n",
      "  0%|                                                                                          | 0/449 [00:00<?, ?it/s]"
     ]
    },
    {
     "name": "stdout",
     "output_type": "stream",
     "text": [
      "Calculating weights for miRNA...\n"
     ]
    },
    {
     "name": "stderr",
     "output_type": "stream",
     "text": [
      "100%|████████████████████████████████████████████████████████████████████████████████| 449/449 [01:58<00:00,  3.80it/s]\n"
     ]
    },
    {
     "name": "stdout",
     "output_type": "stream",
     "text": [
      "Calculating weights for Illumina...\n"
     ]
    },
    {
     "name": "stderr",
     "output_type": "stream",
     "text": [
      "100%|████████████████████████████████████████████████████████████████████████████████| 449/449 [01:52<00:00,  4.00it/s]\n",
      "  0%|                                                                                          | 0/449 [00:00<?, ?it/s]"
     ]
    },
    {
     "name": "stdout",
     "output_type": "stream",
     "text": [
      "Calculating P matrix for RNA...\n"
     ]
    },
    {
     "name": "stderr",
     "output_type": "stream",
     "text": [
      "100%|████████████████████████████████████████████████████████████████████████████████| 449/449 [01:34<00:00,  4.75it/s]\n",
      "  0%|                                                                                          | 0/449 [00:00<?, ?it/s]"
     ]
    },
    {
     "name": "stdout",
     "output_type": "stream",
     "text": [
      "[[0.5        0.00111613 0.00111616 ... 0.00111617 0.00111616 0.00111615]\n",
      " [0.00111608 0.5        0.00111605 ... 0.00111612 0.00111609 0.00111612]\n",
      " [0.00111609 0.00111603 0.5        ... 0.00111609 0.00111609 0.00111607]\n",
      " ...\n",
      " [0.00111645 0.00111645 0.00111644 ... 0.5        0.00111207 0.00111111]\n",
      " [0.00111638 0.00111636 0.00111638 ... 0.001112   0.5        0.00111281]\n",
      " [0.00111641 0.00111642 0.00111639 ... 0.00111109 0.00111285 0.5       ]]\n",
      "Calculating P matrix for miRNA...\n"
     ]
    },
    {
     "name": "stderr",
     "output_type": "stream",
     "text": [
      "100%|████████████████████████████████████████████████████████████████████████████████| 449/449 [03:51<00:00,  1.94it/s]\n",
      "  0%|                                                                                          | 0/449 [00:00<?, ?it/s]"
     ]
    },
    {
     "name": "stdout",
     "output_type": "stream",
     "text": [
      "[[0.5        0.0011168  0.00111708 ... 0.00111707 0.00111705 0.00111704]\n",
      " [0.00111611 0.5        0.00111638 ... 0.00111556 0.00111639 0.00111632]\n",
      " [0.00111654 0.00111654 0.5        ... 0.00111653 0.00111528 0.0011158 ]\n",
      " ...\n",
      " [0.00111952 0.00111869 0.00111951 ... 0.5        0.00111427 0.00111736]\n",
      " [0.00111705 0.00111707 0.0011158  ... 0.00111183 0.5        0.00111393]\n",
      " [0.00111676 0.00111672 0.00111604 ... 0.00111463 0.00111365 0.5       ]]\n",
      "Calculating P matrix for Illumina...\n"
     ]
    },
    {
     "name": "stderr",
     "output_type": "stream",
     "text": [
      "100%|████████████████████████████████████████████████████████████████████████████████| 449/449 [01:35<00:00,  4.69it/s]\n",
      "  4%|███▍                                                                             | 19/449 [00:00<00:04, 92.99it/s]"
     ]
    },
    {
     "name": "stdout",
     "output_type": "stream",
     "text": [
      "[[0.5        0.00110835 0.0011044  ... 0.00111601 0.00111652 0.00111688]\n",
      " [0.00110833 0.5        0.00110883 ... 0.00111597 0.00111677 0.00111675]\n",
      " [0.00110431 0.00110876 0.5        ... 0.00111605 0.00111645 0.00111679]\n",
      " ...\n",
      " [0.00111543 0.00111541 0.00111557 ... 0.5        0.00111612 0.00111627]\n",
      " [0.00111591 0.00111618 0.00111593 ... 0.00111609 0.5        0.00111596]\n",
      " [0.00111613 0.00111602 0.00111614 ... 0.0011161  0.00111582 0.5       ]]\n",
      "Calculating S matrix for RNA...\n"
     ]
    },
    {
     "name": "stderr",
     "output_type": "stream",
     "text": [
      "100%|████████████████████████████████████████████████████████████████████████████████| 449/449 [00:04<00:00, 91.01it/s]\n",
      "  2%|█▊                                                                               | 10/449 [00:00<00:05, 87.52it/s]"
     ]
    },
    {
     "name": "stdout",
     "output_type": "stream",
     "text": [
      "[[0.00991924 0.         0.         ... 0.         0.         0.        ]\n",
      " [0.         0.00990804 0.01000167 ... 0.         0.         0.        ]\n",
      " [0.         0.01000086 0.00993474 ... 0.         0.         0.        ]\n",
      " ...\n",
      " [0.         0.         0.         ... 0.00992819 0.00997236 0.00996382]\n",
      " [0.         0.         0.         ... 0.0099709  0.00993518 0.00997817]\n",
      " [0.         0.         0.         ... 0.00996309 0.00997889 0.00993346]]\n",
      "Calculating S matrix for miRNA...\n"
     ]
    },
    {
     "name": "stderr",
     "output_type": "stream",
     "text": [
      "100%|████████████████████████████████████████████████████████████████████████████████| 449/449 [00:04<00:00, 90.96it/s]\n",
      "  2%|█▊                                                                               | 10/449 [00:00<00:04, 97.86it/s]"
     ]
    },
    {
     "name": "stdout",
     "output_type": "stream",
     "text": [
      "[[0.00930747 0.         0.         ... 0.         0.         0.        ]\n",
      " [0.         0.00937907 0.         ... 0.01000825 0.         0.        ]\n",
      " [0.         0.         0.0091106  ... 0.         0.01001101 0.0100157 ]\n",
      " ...\n",
      " [0.         0.         0.         ... 0.00973063 0.01005923 0.        ]\n",
      " [0.         0.         0.         ... 0.00998334 0.00969212 0.01000224]\n",
      " [0.         0.         0.         ... 0.01000951 0.01000067 0.00906763]]\n",
      "Calculating S matrix for Illumina...\n"
     ]
    },
    {
     "name": "stderr",
     "output_type": "stream",
     "text": [
      "100%|████████████████████████████████████████████████████████████████████████████████| 449/449 [00:04<00:00, 91.30it/s]"
     ]
    },
    {
     "name": "stdout",
     "output_type": "stream",
     "text": [
      "[[0.00995304 0.0099472  0.00991175 ... 0.         0.         0.        ]\n",
      " [0.00994608 0.0099561  0.00995059 ... 0.         0.         0.        ]\n",
      " [0.0099095  0.00994946 0.00995295 ... 0.         0.         0.        ]\n",
      " ...\n",
      " [0.00999836 0.00999818 0.00999962 ... 0.00991955 0.         0.        ]\n",
      " [0.01000161 0.         0.01000182 ... 0.         0.00990241 0.01000205]\n",
      " [0.         0.01000163 0.         ... 0.         0.00999984 0.00991563]]\n"
     ]
    },
    {
     "name": "stderr",
     "output_type": "stream",
     "text": [
      "\n"
     ]
    }
   ],
   "source": [
    "sm = SimilarityNetworkFusion(df_mirna.drop_duplicates(subset='case_id'),\n",
    "                            df_rna.drop_duplicates(subset='case_id'),\n",
    "                            df_illumina.drop_duplicates(subset='case_id'), k=100).calculate_matrix()"
   ]
  },
  {
   "cell_type": "code",
   "execution_count": 5,
   "metadata": {},
   "outputs": [
    {
     "name": "stdout",
     "output_type": "stream",
     "text": [
      "[[0.00610495 0.00251315 0.0022637  ... 0.00286328 0.00291298 0.00291318]\n",
      " [0.00251327 0.00610479 0.00201347 ... 0.00251384 0.00281318 0.0022642 ]\n",
      " [0.00226366 0.00201331 0.00610497 ... 0.0015649  0.00161476 0.00156487]\n",
      " ...\n",
      " [0.00286331 0.00251375 0.00156497 ... 0.00610486 0.00485619 0.00535554]\n",
      " [0.00291309 0.00281316 0.00161491 ... 0.00485626 0.00610479 0.00445685]\n",
      " [0.00291321 0.00226411 0.00156494 ... 0.00535554 0.00445678 0.00610487]]\n",
      "[[0.00610517 0.00276361 0.0019657  ... 0.00246985 0.00226497 0.00266535]\n",
      " [0.00276361 0.00610512 0.00226552 ... 0.00275871 0.00241357 0.00196565]\n",
      " [0.0019657  0.00226552 0.00610533 ... 0.00211807 0.0032114  0.00281018]\n",
      " ...\n",
      " [0.00246986 0.00275872 0.00211808 ... 0.00610605 0.00439818 0.00370367]\n",
      " [0.00226499 0.00241359 0.00321142 ... 0.0043982  0.00610496 0.00440505]\n",
      " [0.00266538 0.00196568 0.00281021 ... 0.00370369 0.00440506 0.00610532]]\n",
      "[[0.00610494 0.0049046  0.0059048  ... 0.00430768 0.00341196 0.00181446]\n",
      " [0.00490457 0.00610494 0.00490468 ... 0.00465743 0.00316236 0.00166441]\n",
      " [0.00590479 0.0049047  0.00610494 ... 0.00430777 0.00336197 0.00181449]\n",
      " ...\n",
      " [0.00430765 0.00465742 0.00430775 ... 0.00610493 0.00326155 0.00151514]\n",
      " [0.00341191 0.00316233 0.00336193 ... 0.00326153 0.00610493 0.00296129]\n",
      " [0.00181442 0.00166439 0.00181447 ... 0.00151514 0.00296131 0.00610495]]\n",
      "[[0.00303924 0.00305298 0.00301873 ... 0.00298155 0.00302277 0.00300246]\n",
      " [0.00305298 0.00312099 0.00304806 ... 0.00301356 0.00306037 0.00303475]\n",
      " [0.00301873 0.00304805 0.00304373 ... 0.00297067 0.00300947 0.00299069]\n",
      " ...\n",
      " [0.00298155 0.00301356 0.00297068 ... 0.00297039 0.00299899 0.00298229]\n",
      " [0.00302277 0.00306037 0.00300948 ... 0.00299899 0.00304493 0.00301599]\n",
      " [0.00300246 0.00303476 0.0029907  ... 0.00298229 0.00301599 0.00300388]]\n",
      "[[0.0030364  0.00304125 0.00303044 ... 0.00303002 0.00305449 0.00307663]\n",
      " [0.00304125 0.00307839 0.00305069 ... 0.00304836 0.00307333 0.00309574]\n",
      " [0.00303045 0.00305069 0.00306722 ... 0.00304484 0.00308024 0.00310031]\n",
      " ...\n",
      " [0.00303002 0.00304836 0.00304485 ... 0.00306572 0.00308538 0.00309949]\n",
      " [0.00305449 0.00307334 0.00308025 ... 0.00308539 0.00312785 0.00313911]\n",
      " [0.00307664 0.00309574 0.00310032 ... 0.00309949 0.0031391  0.00316912]]\n",
      "[[0.00287679 0.00285889 0.00286839 ... 0.00284313 0.00285383 0.00282841]\n",
      " [0.00285889 0.00285396 0.00285187 ... 0.00283492 0.00283609 0.00280958]\n",
      " [0.00286839 0.00285188 0.00286268 ... 0.00283675 0.00284472 0.00281905]\n",
      " ...\n",
      " [0.00284313 0.00283492 0.00283675 ... 0.00283184 0.00282634 0.00279846]\n",
      " [0.00285383 0.00283609 0.00284472 ... 0.00282634 0.00286746 0.0028323 ]\n",
      " [0.00282841 0.00280959 0.00281905 ... 0.00279847 0.0028323  0.00283561]]\n",
      "[[0.0029368  0.002937   0.0029344  ... 0.00294005 0.00293821 0.0029391 ]\n",
      " [0.002937   0.0029376  0.00293476 ... 0.0029404  0.00293861 0.00293945]\n",
      " [0.0029344  0.00293476 0.00293232 ... 0.00293773 0.00293589 0.00293677]\n",
      " ...\n",
      " [0.00294005 0.0029404  0.00293773 ... 0.00294365 0.00294171 0.00294262]\n",
      " [0.00293821 0.00293861 0.00293589 ... 0.00294171 0.00293989 0.00294072]\n",
      " [0.0029391  0.00293945 0.00293677 ... 0.00294262 0.00294072 0.00294166]]\n",
      "[[0.00291699 0.00291464 0.00291389 ... 0.00291683 0.00291418 0.0029145 ]\n",
      " [0.00291464 0.00291249 0.00291165 ... 0.00291456 0.00291193 0.00291225]\n",
      " [0.00291389 0.00291165 0.00291106 ... 0.00291382 0.00291125 0.00291157]\n",
      " ...\n",
      " [0.00291683 0.00291456 0.00291382 ... 0.0029169  0.00291423 0.00291451]\n",
      " [0.00291418 0.00291193 0.00291125 ... 0.00291423 0.00291171 0.00291197]\n",
      " [0.0029145  0.00291225 0.00291157 ... 0.00291451 0.00291197 0.00291233]]\n",
      "[[0.00301319 0.0030144  0.00301352 ... 0.00301492 0.00301506 0.00301619]\n",
      " [0.0030144  0.00301569 0.00301475 ... 0.00301619 0.00301626 0.0030174 ]\n",
      " [0.00301352 0.00301475 0.00301388 ... 0.00301527 0.00301541 0.00301653]\n",
      " ...\n",
      " [0.00301492 0.00301619 0.00301527 ... 0.0030168  0.00301683 0.00301796]\n",
      " [0.00301506 0.00301626 0.00301541 ... 0.00301683 0.00301715 0.00301822]\n",
      " [0.00301619 0.0030174  0.00301653 ... 0.00301796 0.00301822 0.00301953]]\n"
     ]
    }
   ],
   "source": [
    "sm.fit(num_iter=3)"
   ]
  },
  {
   "cell_type": "code",
   "execution_count": null,
   "metadata": {},
   "outputs": [],
   "source": [
    "sm.p_rna"
   ]
  },
  {
   "cell_type": "code",
   "execution_count": null,
   "metadata": {},
   "outputs": [],
   "source": [
    "sm.p_illumina "
   ]
  },
  {
   "cell_type": "code",
   "execution_count": null,
   "metadata": {},
   "outputs": [],
   "source": [
    "sm.p_mirna"
   ]
  },
  {
   "cell_type": "code",
   "execution_count": null,
   "metadata": {},
   "outputs": [],
   "source": []
  }
 ],
 "metadata": {
  "kernelspec": {
   "display_name": "Python 3",
   "language": "python",
   "name": "python3"
  },
  "language_info": {
   "codemirror_mode": {
    "name": "ipython",
    "version": 3
   },
   "file_extension": ".py",
   "mimetype": "text/x-python",
   "name": "python",
   "nbconvert_exporter": "python",
   "pygments_lexer": "ipython3",
   "version": "3.8.3"
  }
 },
 "nbformat": 4,
 "nbformat_minor": 2
}
