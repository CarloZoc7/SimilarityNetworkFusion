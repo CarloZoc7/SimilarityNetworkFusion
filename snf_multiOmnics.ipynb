{
 "cells": [
  {
   "cell_type": "code",
   "execution_count": 1,
   "metadata": {
    "gather": {
     "logged": 1608995475084
    }
   },
   "outputs": [],
   "source": [
    "import pandas as pd\n",
    "import numpy as np\n",
    "import json\n",
    "import os\n",
    "import networkx as nx\n",
    "#import pickle5 as pickle\n",
    "\n",
    "from tqdm import tqdm\n",
    "from sklearn.preprocessing import StandardScaler, MinMaxScaler\n",
    "from sklearn.cluster import SpectralClustering, KMeans\n",
    "from sklearn.metrics import silhouette_score, adjusted_rand_score\n",
    "from sklearn.preprocessing import LabelEncoder\n",
    "\n",
    "from myclass.CleanMergeDataset import Clean_Merge_Dataset\n",
    "from myclass.BonferroniTtest import Bonferroni_Ttest"
   ]
  },
  {
   "cell_type": "code",
   "execution_count": 2,
   "metadata": {
    "gather": {
     "logged": 1608995811009
    }
   },
   "outputs": [],
   "source": [
    "if os.path.exists('final_dataset_common.json') is False:\n",
    "\n",
    "    data_normal = pd.read_pickle('./data-ready/RNA_dataframe_normal').replace('/', '\\\\')\n",
    "    data_tumor = pd.read_pickle('./data-ready/RNA_dataframe').replace('/', '\\\\')\n",
    "    dataset_RNA, y_RNA, cases_id_RNA = Clean_Merge_Dataset(name='RNA').transform(data_normal, data_tumor)\n",
    "    df_RNA = pd.concat([dataset_RNA, cases_id_RNA], axis=1)\n",
    "\n",
    "    data_normal = pd.read_pickle('./data-ready/miRNA_dataframe_normal').replace('/', '\\\\')\n",
    "    data_tumor = pd.read_pickle('./data-ready/miRNA_dataframe').replace('/', '\\\\')\n",
    "    dataset_miRNA, y_miRNA, cases_id_miRNA= Clean_Merge_Dataset(name='miRNA').transform(data_normal, data_tumor)\n",
    "    df_miRNA = pd.concat([dataset_miRNA, cases_id_miRNA], axis=1)\n",
    "\n",
    "    data_normal = pd.read_pickle('./data-ready/illumina-27-450-normal').replace('/', '\\\\')\n",
    "    data_tumor = pd.read_pickle('./data-ready/illumina450-27-tumor').replace('/', '\\\\')\n",
    "    dataset_illumina, y_illumina, cases_id_illumina= Clean_Merge_Dataset(name='illumina').transform(data_normal, data_tumor)\n",
    "    df_illumina = pd.concat([dataset_illumina, cases_id_illumina], axis=1)\n",
    "\n",
    "    dataset_RNA = Bonferroni_Ttest(label_case_id_into_X=True, alpha=0.05).fit_transform(pd.concat([df_RNA, y_RNA], axis=1), y_RNA)\n",
    "    dataset_miRNA = Bonferroni_Ttest(label_case_id_into_X=True, alpha=0.05).fit_transform(pd.concat([df_miRNA, y_miRNA], axis=1), y_miRNA)\n",
    "    dataset_illumina = Bonferroni_Ttest(label_case_id_into_X=True, alpha=0.05).fit_transform(pd.concat([df_illumina, y_illumina], axis=1), y_illumina)\n",
    "\n",
    "    cases_id = set(dataset_illumina['case_id']) & set(dataset_miRNA['case_id']) & set(dataset_RNA['case_id'])\n",
    "    df_final_illumina = dataset_illumina.loc[dataset_illumina['case_id'].isin(cases_id)]\n",
    "    df_final_rna = dataset_RNA.loc[dataset_RNA['case_id'].isin(cases_id)]\n",
    "    df_final_mirna = dataset_miRNA.loc[dataset_miRNA['case_id'].isin(cases_id)]\n",
    "\n",
    "    print(df_final_illumina.shape)\n",
    "    print(df_final_rna.shape)\n",
    "    print(df_final_mirna.shape)\n",
    "    \n",
    "    df_final_illumina.to_pickle('illumina_pickle.pkl')\n",
    "    df_final_rna.to_pickle('rna_pickle.pkl')\n",
    "    df_final_mirna.to_pickle('miRNA_pickle.pkl')\n",
    "    \n",
    "    my_dict = {\n",
    "        'miRNA': df_final_mirna.to_dict(),\n",
    "        'RNA': df_final_rna.to_dict(),\n",
    "        'illumina': df_final_illumina.to_dict()\n",
    "    }\n",
    "    with open('final_dataset_common.json', 'w') as outfile:\n",
    "        json.dump(my_dict, outfile)\n",
    "    \n",
    "    df_illumina = df_final_illumina.copy()\n",
    "    df_mirna = df_final_mirna.copy()\n",
    "    df_rna = df_final_rna.copy()\n",
    "    \n",
    "    del my_dict\n",
    "    del df_final_illumina\n",
    "    del df_final_rna\n",
    "    del df_final_mirna\n",
    "    del dataset_illumina\n",
    "    del dataset_RNA\n",
    "    del dataset_miRNA\n",
    "else:\n",
    "    df_illumina = pd.read_pickle('illumina_pickle.pkl')\n",
    "    df_mirna = pd.read_pickle('miRNA_pickle.pkl')\n",
    "    df_rna = pd.read_pickle('rna_pickle.pkl')\n",
    "    #with open('illumina_pickle.pkl' ,'rb') as f:\n",
    "        #df_illumina = pickle.load(f)\n",
    "    #with open('mirna_pickle.pkl' ,'rb') as f:\n",
    "        #df_mirna = pickle.load(f)\n",
    "    #with open('rna_pickle.pkl' ,'rb') as f:\n",
    "        #df_rna = pickle.load(f)"
   ]
  },
  {
   "cell_type": "markdown",
   "metadata": {},
   "source": [
    "**Selecting atlas genes**"
   ]
  },
  {
   "cell_type": "code",
   "execution_count": 3,
   "metadata": {},
   "outputs": [
    {
     "name": "stdout",
     "output_type": "stream",
     "text": [
      "(508, 12965)\n"
     ]
    }
   ],
   "source": [
    "with open('all_ensgs.json') as f:\n",
    "    genes = json.load(f)\n",
    "print(df_rna.shape)\n",
    "columns = [gene for gene in genes if gene in df_rna.columns]\n",
    "columns.append('case_id')\n",
    "columns.append('label')\n",
    "df_rna = df_rna.loc[:, columns]"
   ]
  },
  {
   "cell_type": "code",
   "execution_count": 4,
   "metadata": {
    "gather": {
     "logged": 1608997164227
    }
   },
   "outputs": [],
   "source": [
    "import numpy as np\n",
    "import pandas as pd\n",
    "import os\n",
    "\n",
    "from scipy.spatial.distance import pdist, squareform, cdist\n",
    "from copy import deepcopy\n",
    "from sklearn.preprocessing import StandardScaler\n",
    "\n",
    "class SimilarityNetworkFusion:\n",
    "    def __init__(self, df_mirna, df_rna, df_illumina, k=3, mu=0.3):\n",
    "        \n",
    "        self.cases_id = df_rna.loc[:, 'case_id']\n",
    "        self.rna = df_rna.copy()\n",
    "        self.mirna = df_mirna.copy()\n",
    "        self.illumina = df_illumina.copy()\n",
    "        \n",
    "        self.k = k\n",
    "        self.mu = mu\n",
    "        self.check_columns()\n",
    "    \n",
    "    def calculate_matrix(self):\n",
    "        self.dict_dist = self.calculate_sim_matrix()\n",
    "        if hasattr(self, 'w_rna') is False:\n",
    "            self.w_rna = self.__weights__(self.rna, 'RNA', save_matrix=True)\n",
    "            self.w_mirna = self.__weights__(self.mirna, 'miRNA', save_matrix=True)\n",
    "            self.w_illumina = self.__weights__(self.illumina, 'Illumina', save_matrix=True)\n",
    "        \n",
    "        if hasattr(self, 'p_rna') is False:\n",
    "            self.starting_p_rna = self.P_matrix(self.w_rna.to_numpy().tolist(), self.cases_id.shape[0], 'RNA', save_matrix=True)\n",
    "            self.starting_p_mirna = self.P_matrix(self.w_mirna.to_numpy().tolist(), self.cases_id.shape[0], 'miRNA', save_matrix=True)\n",
    "            self.starting_p_illumina = self.P_matrix(self.w_illumina.to_numpy().tolist(), self.cases_id.shape[0], 'Illumina', save_matrix=True)\n",
    "                \n",
    "        self.s_rna = self.S_matrix(self.w_rna.to_numpy().tolist(), self.cases_id.shape[0], 'RNA')\n",
    "        self.s_mirna = self.S_matrix(self.w_mirna.to_numpy().tolist(), self.cases_id.shape[0], 'miRNA')\n",
    "        self.s_illumina = self.S_matrix(self.w_illumina.to_numpy().tolist(), self.cases_id.shape[0], 'Illumina')\n",
    "        \n",
    "        return self\n",
    "    \n",
    "    def calculate_sim_matrix(self):\n",
    "        tot = 0\n",
    "        distance = 'euclidean'\n",
    "        tot += pdist(self.rna, distance)\n",
    "        tot += pdist(self.mirna, distance)\n",
    "        tot += pdist(self.illumina, distance)\n",
    "        tot = tot/3 \n",
    "        df_dist = pd.DataFrame(columns=self.cases_id, index=self.cases_id, data=squareform(tot))\n",
    "        \n",
    "        return df_dist\n",
    "\n",
    "    def __weights__(self, dataset, name, save_matrix=False):\n",
    "        \n",
    "        if 'weights_matrix_'+name+'.pkl' in os.listdir('.'):\n",
    "            print('Read file pickle for weights matrix of {}'.format(name))\n",
    "            weights = pd.read_pickle('weights_matrix_'+name+'.pkl')\n",
    "            #dist = pdist(dataset, 'euclidean')\n",
    "            #df_dist = pd.DataFrame(columns=self.cases_id, index=self.cases_id, data=squareform(dist))\n",
    "            #self.dict_dist[name] = df_dist.copy()\n",
    "            return weights\n",
    "        \n",
    "        print('Calculating weights for {}...'.format(name))\n",
    "        df = pd.DataFrame(columns=self.cases_id, data=dataset.T.values)\n",
    "        \n",
    "        #calculate euclidean distance\n",
    "        dist = pdist(dataset, 'euclidean')\n",
    "        df_dist = pd.DataFrame(columns=self.cases_id, index=self.cases_id, data=squareform(dist))\n",
    "        weights = pd.DataFrame(columns=self.cases_id, index=self.cases_id, data=[])\n",
    "                \n",
    "        for i, patient_i in enumerate(tqdm(self.cases_id)):\n",
    "            for patient_j in self.cases_id.iloc[i:]:\n",
    "                    tokK_mean_i = np.sort(df_dist.loc[patient_i, :].to_numpy())[:self.k].mean()\n",
    "                    topK_mean_j = np.sort(df_dist.loc[patient_j, :].to_numpy())[:self.k].mean()\n",
    "                    \n",
    "                    eps = (tokK_mean_i + tokK_mean_i + df_dist.loc[patient_i, patient_j])/3\n",
    "\n",
    "                    weights.loc[patient_i, patient_j] = np.exp(-(df_dist.loc[patient_i, patient_j]**2/(eps*self.mu)))\n",
    "                    weights.loc[patient_j, patient_i] = np.exp(-(df_dist.loc[patient_j, patient_i]**2/(eps*self.mu)))\n",
    "        if save_matrix:\n",
    "            weights.to_pickle('weights_matrix_'+name+'.pkl')\n",
    "        #self.dict_dist[name] = df_dist.copy()\n",
    "        return weights       \n",
    "    \n",
    "    def check_columns(self):\n",
    "        scaler = MinMaxScaler()\n",
    "        if 'label' in self.mirna.columns:\n",
    "            self.mirna.drop(['label'], axis=1, inplace=True)\n",
    "        if 'case_id' in self.mirna.columns:\n",
    "            self.mirna.drop(['case_id'], axis=1, inplace=True)\n",
    "            \n",
    "        if 'label' in self.rna.columns:\n",
    "            self.rna.drop(['label'], axis=1, inplace=True)\n",
    "        if 'case_id' in self.rna.columns:\n",
    "            self.rna.drop(['case_id'], axis=1, inplace=True)\n",
    "            \n",
    "        if 'label' in self.illumina.columns:\n",
    "            self.illumina.drop(['label'], axis=1, inplace=True)\n",
    "        if 'case_id' in self.illumina.columns:\n",
    "            self.illumina.drop(['case_id'], axis=1, inplace=True)\n",
    "            \n",
    "        self.mirna = pd.DataFrame(scaler.fit_transform(self.mirna))\n",
    "        self.rna = pd.DataFrame(scaler.fit_transform(self.rna))\n",
    "        self.illumina = pd.DataFrame(scaler.fit_transform(self.illumina))\n",
    "\n",
    "        return\n",
    "\n",
    "\n",
    "    def find_k_neighbors(self, row, i, k=None): \n",
    "        row=deepcopy(row)\n",
    "        #case of P matrix\n",
    "        if k==None:\n",
    "            del row[i]  #delete element of the same column of row index\n",
    "            return row\n",
    "\n",
    "        #case of S (find k elements with minimum distance value of W[i][j])\n",
    "        else:\n",
    "            k_neighbors_index=[]\n",
    "            neigh = 0\n",
    "            max_value = max(row)\n",
    "            for j in range(0, len(row)):\n",
    "                if j!=i:\n",
    "                    min_index = row.index(min(row))\n",
    "                    k_neighbors_index.append(min_index)\n",
    "                    neigh+=1\n",
    "                    row[min_index] = max_value\n",
    "                    if neigh == k:\n",
    "                        return k_neighbors_index\n",
    "\n",
    "\n",
    "    def P_matrix(self, W, n_case_id, name, save_matrix=False):\n",
    "        if 'pStarting_matrix_'+name+'.pkl' in os.listdir('.'):\n",
    "            print('Reading the file pickle for the p starting matrix {}'.format(name))\n",
    "            df_p = pd.read_pickle('pStarting_matrix_'+name+'.pkl')\n",
    "            return df_p.to_numpy()\n",
    "            \n",
    "        print('Calculating P matrix for {}...'.format(name))\n",
    "        P=[]\n",
    "        for i in tqdm(range(0, n_case_id)):\n",
    "            row=[]\n",
    "            for j in range(0,n_case_id):\n",
    "                if i==j:\n",
    "                    row.append(1/2)\n",
    "\n",
    "                else:\n",
    "                    k_neighbors = self.find_k_neighbors(W[i], i)\n",
    "                    denominator = 2*sum(k_neighbors)\n",
    "                    row.append(W[i][j]/denominator)\n",
    "            P.append(row)\n",
    "        #print(np.array(P))\n",
    "        \n",
    "        if save_matrix:\n",
    "            df_P = pd.DataFrame(np.array(P))\n",
    "            df_P.to_pickle('pStarting_matrix_'+name+'.pkl')\n",
    "        return np.array(P)\n",
    "\n",
    "    def S_matrix(self, W, n_case_id, name):\n",
    "        print('Calculating S matrix for {}...'.format(name))\n",
    "        S=[]\n",
    "        for i in tqdm(range(0, n_case_id)):\n",
    "            S_row=[]\n",
    "            neighbors_indeces = self.find_k_neighbors(self.dict_dist.iloc[i,:].to_numpy().tolist(), i, self.k)\n",
    "            for j in range(0,n_case_id):\n",
    "                if j not in neighbors_indeces:\n",
    "                    S_row.append(0)\n",
    "\n",
    "                else:\n",
    "                    np_row = np.array(W[i])\n",
    "                    denominator = sum(np_row[neighbors_indeces])\n",
    "                    S_row.append(W[i][j]/denominator)\n",
    "            S.append(S_row)\n",
    "        print(np.array(S))\n",
    "        return np.array(S)\n",
    "    \n",
    "    def product_matrix(self, S_matrix, P_matrix):\n",
    "        result = np.dot(S_matrix, P_matrix)\n",
    "        result = np.dot(result, S_matrix.T)\n",
    "        return result\n",
    "    \n",
    "    def sum_matrix_P(self, P1, P2):\n",
    "        return np.add(P1,P2)/2\n",
    "    \n",
    "    def fit(self, num_iter=None):\n",
    "        if num_iter is not None:\n",
    "            self.p_rna = self.starting_p_rna.copy()\n",
    "            self.p_mirna = self.starting_p_mirna.copy()\n",
    "            self.p_illumina = self.starting_p_illumina.copy()\n",
    "            for i in range(0, num_iter):\n",
    "                self.p_rna_t1 = self.product_matrix(self.s_rna, self.sum_matrix_P(self.p_mirna, self.p_illumina))\n",
    "                self.p_mirna_t1 = self.product_matrix(self.s_mirna, self.sum_matrix_P(self.p_rna, self.p_illumina))\n",
    "                self.p_illumina_t1 = self.product_matrix(self.s_illumina, self.sum_matrix_P(self.p_mirna, self.p_rna))\n",
    "                #print(self.p_rna_t1)\n",
    "                #print(self.p_mirna_t1)\n",
    "                #print(self.p_illumina_t1)\n",
    "                self.p_rna = self.p_rna_t1\n",
    "                self.p_mirna = self.p_mirna_t1\n",
    "                self.p_illumina = self.p_illumina_t1\n",
    "        else:\n",
    "            print('ciao')\n",
    "\n",
    "        return self\n",
    "    \n",
    "   \n",
    "    def iterations_fit(self, matrices_diff=None, max_iter=100):\n",
    "        if matrices_diff is not None:\n",
    "            self.p_rna = self.starting_p_rna.copy()\n",
    "            self.p_mirna = self.starting_p_mirna.copy()\n",
    "            self.p_illumina = self.starting_p_illumina.copy()\n",
    "            \n",
    "            for step in range(0, max_iter):\n",
    "                self.p_rna_t1 = self.product_matrix(self.s_rna, self.sum_matrix_P(self.p_mirna, self.p_illumina))\n",
    "                self.p_mirna_t1 = self.product_matrix(self.s_mirna, self.sum_matrix_P(self.p_rna, self.p_illumina))\n",
    "                self.p_illumina_t1 = self.product_matrix(self.s_illumina, self.sum_matrix_P(self.p_mirna, self.p_rna))\n",
    "               \n",
    "                self.p_rna = self.p_rna_t1\n",
    "                self.p_mirna = self.p_mirna_t1\n",
    "                self.p_illumina = self.p_illumina_t1\n",
    "\n",
    "                diff_matrix = 0\n",
    "                for i in range(0, len(self.p_rna)):\n",
    "                    for j in range(i, len(self.p_rna)):\n",
    "                        diff_matrix += np.abs(self.p_rna[i][j] - self.p_mirna[i][j])\n",
    "                        diff_matrix += np.abs(self.p_illumina[i][j] - self.p_mirna[i][j])\n",
    "                        diff_matrix += np.abs(self.p_illumina[i][j] - self.p_rna[i][j])\n",
    "                \n",
    "                diff_matrix = diff_matrix**0.5\n",
    "                print(step, ':', diff_matrix)\n",
    "                \n",
    "                #diff_matrix = np.abs(np.subtract(self.p_rna, self.p_mirna)) + np.abs(np.subtract(self.p_rna, self.p_illumina)) + np.abs(np.subtract(self.p_mirna, self.p_illumina))\n",
    "                #diff_matrix= np.abs(np.mean(diff_matrix))\n",
    "                if diff_matrix<=np.abs(matrices_diff):\n",
    "                    print('number of iterations to reach difference: ', step)\n",
    "                    break\n",
    "                    \n",
    "                if step == max_iter-1: ##impossible to reach matrices difference\n",
    "                    print('impossible to reach indicated difference, try with a bigger difference value')\n",
    "        else:\n",
    "            print('no difference for matrices found')\n",
    "\n",
    "        return self\n",
    "    \n",
    "    def local_minimum_fit(self, iters_to_min=None, max_iter=100):\n",
    "        if iters_to_min is not None:\n",
    "            self.p_rna = self.starting_p_rna.copy()\n",
    "            self.p_mirna = self.starting_p_mirna.copy()\n",
    "            self.p_illumina = self.starting_p_illumina.copy()\n",
    "            count=0\n",
    "            prev_diff=0\n",
    "            for step in range(0, max_iter):\n",
    "                self.p_rna_t1 = self.product_matrix(self.s_rna, self.sum_matrix_P(self.p_mirna, self.p_illumina))\n",
    "                self.p_mirna_t1 = self.product_matrix(self.s_mirna, self.sum_matrix_P(self.p_rna, self.p_illumina))\n",
    "                self.p_illumina_t1 = self.product_matrix(self.s_illumina, self.sum_matrix_P(self.p_mirna, self.p_rna))\n",
    "               \n",
    "                self.p_rna = self.p_rna_t1\n",
    "                self.p_mirna = self.p_mirna_t1\n",
    "                self.p_illumina = self.p_illumina_t1\n",
    "\n",
    "                diff_matrix = 0\n",
    "                for i in range(0, len(self.p_rna)):\n",
    "                    for j in range(i, len(self.p_rna)):\n",
    "                        diff_matrix += np.abs(self.p_rna[i][j] - self.p_mirna[i][j])\n",
    "                        diff_matrix += np.abs(self.p_illumina[i][j] - self.p_mirna[i][j])\n",
    "                        diff_matrix += np.abs(self.p_illumina[i][j] - self.p_rna[i][j])\n",
    "                \n",
    "                diff_matrix = diff_matrix**0.5\n",
    "                print(step, ':', diff_matrix)\n",
    "                \n",
    "                #diff_matrix = np.abs(np.subtract(self.p_rna, self.p_mirna)) + np.abs(np.subtract(self.p_rna, self.p_illumina)) + np.abs(np.subtract(self.p_mirna, self.p_illumina))\n",
    "                #diff_matrix= np.abs(np.mean(diff_matrix))\n",
    "                \n",
    "                #check if a local minimum is found\n",
    "                if int(diff_matrix)==prev_diff:\n",
    "                    count+=1\n",
    "                    if count>=iters_to_min:\n",
    "                        print('local minimum reached in ', step, 'iterations')\n",
    "                        break\n",
    "                else:\n",
    "                    count=0\n",
    "                    \n",
    "                prev_diff = int(diff_matrix)\n",
    "                    \n",
    "                if step == max_iter-1: ##impossible to reach matrices difference\n",
    "                    print('impossible to reach local minimum, matrices seem to not converge')\n",
    "        else:\n",
    "            print('no minimum iterations for matrices found')\n",
    "\n",
    "        return self\n",
    "    \n",
    "    def clean(self):\n",
    "        del self.p_rna\n",
    "        del self.p_mirna\n",
    "        del self.p_illumina\n",
    "        \n",
    "        del self.p_rna_t1\n",
    "        del self.p_mirna_t1\n",
    "        del self.p_illumina_t1\n",
    "        \n",
    "        \n",
    "        del self.w_rna\n",
    "        del self.w_mirna\n",
    "        del self.w_illumina\n",
    "        \n",
    "        return self"
   ]
  },
  {
   "cell_type": "code",
   "execution_count": 5,
   "metadata": {
    "gather": {
     "logged": 1608998195326
    }
   },
   "outputs": [
    {
     "name": "stderr",
     "output_type": "stream",
     "text": [
      "\r",
      "  0%|          | 0/449 [00:00<?, ?it/s]"
     ]
    },
    {
     "name": "stdout",
     "output_type": "stream",
     "text": [
      "Calculating weights for RNA...\n"
     ]
    },
    {
     "name": "stderr",
     "output_type": "stream",
     "text": [
      "100%|██████████| 449/449 [01:24<00:00,  5.33it/s]\n",
      "  0%|          | 0/449 [00:00<?, ?it/s]"
     ]
    },
    {
     "name": "stdout",
     "output_type": "stream",
     "text": [
      "Calculating weights for miRNA...\n"
     ]
    },
    {
     "name": "stderr",
     "output_type": "stream",
     "text": [
      "100%|██████████| 449/449 [01:20<00:00,  5.57it/s]\n"
     ]
    },
    {
     "name": "stdout",
     "output_type": "stream",
     "text": [
      "Calculating weights for Illumina...\n"
     ]
    },
    {
     "name": "stderr",
     "output_type": "stream",
     "text": [
      "100%|██████████| 449/449 [01:20<00:00,  5.58it/s]\n",
      "  0%|          | 0/449 [00:00<?, ?it/s]"
     ]
    },
    {
     "name": "stdout",
     "output_type": "stream",
     "text": [
      "Calculating P matrix for RNA...\n"
     ]
    },
    {
     "name": "stderr",
     "output_type": "stream",
     "text": [
      "100%|██████████| 449/449 [02:59<00:00,  2.51it/s]\n",
      "  0%|          | 0/449 [00:00<?, ?it/s]"
     ]
    },
    {
     "name": "stdout",
     "output_type": "stream",
     "text": [
      "Calculating P matrix for miRNA...\n"
     ]
    },
    {
     "name": "stderr",
     "output_type": "stream",
     "text": [
      "100%|██████████| 449/449 [02:55<00:00,  2.56it/s]\n",
      "  0%|          | 0/449 [00:00<?, ?it/s]"
     ]
    },
    {
     "name": "stdout",
     "output_type": "stream",
     "text": [
      "Calculating P matrix for Illumina...\n"
     ]
    },
    {
     "name": "stderr",
     "output_type": "stream",
     "text": [
      "100%|██████████| 449/449 [03:47<00:00,  1.98it/s]\n",
      "  2%|▏         | 8/449 [00:00<00:05, 77.24it/s]"
     ]
    },
    {
     "name": "stdout",
     "output_type": "stream",
     "text": [
      "Calculating S matrix for RNA...\n"
     ]
    },
    {
     "name": "stderr",
     "output_type": "stream",
     "text": [
      "100%|██████████| 449/449 [00:05<00:00, 83.92it/s]\n",
      "  2%|▏         | 10/449 [00:00<00:04, 93.11it/s]"
     ]
    },
    {
     "name": "stdout",
     "output_type": "stream",
     "text": [
      "[[0.14703868 0.         0.         ... 0.         0.         0.        ]\n",
      " [0.         0.14176749 0.         ... 0.         0.         0.        ]\n",
      " [0.         0.         0.4847453  ... 0.         0.         0.        ]\n",
      " ...\n",
      " [0.         0.         0.         ... 0.45310793 0.         0.        ]\n",
      " [0.         0.00073598 0.         ... 0.         0.71467716 0.        ]\n",
      " [0.00958855 0.         0.         ... 0.         0.         0.11987761]]\n",
      "Calculating S matrix for miRNA...\n"
     ]
    },
    {
     "name": "stderr",
     "output_type": "stream",
     "text": [
      "100%|██████████| 449/449 [00:05<00:00, 82.37it/s]\n",
      "  2%|▏         | 9/449 [00:00<00:05, 87.39it/s]"
     ]
    },
    {
     "name": "stdout",
     "output_type": "stream",
     "text": [
      "[[9.51884388e-01 0.00000000e+00 0.00000000e+00 ... 0.00000000e+00\n",
      "  0.00000000e+00 0.00000000e+00]\n",
      " [0.00000000e+00 9.91371871e-01 0.00000000e+00 ... 0.00000000e+00\n",
      "  0.00000000e+00 0.00000000e+00]\n",
      " [0.00000000e+00 0.00000000e+00 8.82177133e-01 ... 0.00000000e+00\n",
      "  0.00000000e+00 0.00000000e+00]\n",
      " ...\n",
      " [0.00000000e+00 0.00000000e+00 0.00000000e+00 ... 8.24222340e-01\n",
      "  0.00000000e+00 0.00000000e+00]\n",
      " [0.00000000e+00 3.84291372e-06 0.00000000e+00 ... 0.00000000e+00\n",
      "  9.99269132e-01 0.00000000e+00]\n",
      " [4.45618677e-04 0.00000000e+00 0.00000000e+00 ... 0.00000000e+00\n",
      "  0.00000000e+00 7.60057241e-01]]\n",
      "Calculating S matrix for Illumina...\n"
     ]
    },
    {
     "name": "stderr",
     "output_type": "stream",
     "text": [
      "100%|██████████| 449/449 [00:05<00:00, 77.14it/s]\n"
     ]
    },
    {
     "name": "stdout",
     "output_type": "stream",
     "text": [
      "[[1.00000000e+00 0.00000000e+00 0.00000000e+00 ... 0.00000000e+00\n",
      "  0.00000000e+00 0.00000000e+00]\n",
      " [0.00000000e+00 1.00000000e+00 0.00000000e+00 ... 0.00000000e+00\n",
      "  0.00000000e+00 0.00000000e+00]\n",
      " [0.00000000e+00 0.00000000e+00 1.00000000e+00 ... 0.00000000e+00\n",
      "  0.00000000e+00 0.00000000e+00]\n",
      " ...\n",
      " [0.00000000e+00 0.00000000e+00 0.00000000e+00 ... 1.00000000e+00\n",
      "  0.00000000e+00 0.00000000e+00]\n",
      " [0.00000000e+00 1.69620492e-35 0.00000000e+00 ... 0.00000000e+00\n",
      "  1.00000000e+00 0.00000000e+00]\n",
      " [1.62184284e-53 0.00000000e+00 0.00000000e+00 ... 0.00000000e+00\n",
      "  0.00000000e+00 1.00000000e+00]]\n"
     ]
    }
   ],
   "source": [
    "df_mirna.sort_values(by='case_id', inplace=True)\n",
    "df_rna.sort_values(by='case_id', inplace=True)\n",
    "df_illumina.sort_values(by='case_id', inplace=True)\n",
    "\n",
    "sm = SimilarityNetworkFusion(df_mirna.drop_duplicates(subset='case_id'),\n",
    "                            df_rna.drop_duplicates(subset='case_id'),\n",
    "                            df_illumina.drop_duplicates(subset='case_id'), k=100).calculate_matrix()"
   ]
  },
  {
   "cell_type": "code",
   "execution_count": null,
   "metadata": {
    "gather": {
     "logged": 1608996943544
    }
   },
   "outputs": [],
   "source": [
    "sm.fit(num_iter=50)"
   ]
  },
  {
   "cell_type": "code",
   "execution_count": 69,
   "metadata": {
    "scrolled": true
   },
   "outputs": [
    {
     "name": "stdout",
     "output_type": "stream",
     "text": [
      "0 : 25.458022271524985\n",
      "1 : 18.538540093662142\n",
      "2 : 15.449079255925637\n",
      "3 : 13.040851847775372\n",
      "4 : 11.486120522735616\n",
      "5 : 10.339639092434838\n",
      "6 : 9.45100130358968\n",
      "7 : 8.749497080843888\n",
      "8 : 8.16227107508217\n",
      "9 : 7.670003341900004\n",
      "10 : 7.244295946758629\n",
      "11 : 6.874818324576108\n",
      "12 : 6.549116177931862\n",
      "13 : 6.260914033231143\n",
      "14 : 6.002703030990444\n",
      "15 : 5.770312722182554\n",
      "16 : 5.559473999402204\n",
      "17 : 5.367232570831043\n",
      "18 : 5.190928998134345\n",
      "19 : 5.028245975850384\n",
      "20 : 4.877713250496675\n",
      "21 : 4.737955701826748\n",
      "22 : 4.607604904047421\n",
      "23 : 4.485647069428842\n",
      "24 : 4.371206106523313\n",
      "25 : 4.263568525161656\n",
      "26 : 4.1620854097189905\n",
      "27 : 4.066247927113306\n",
      "28 : 3.9755701774315675\n",
      "29 : 3.889558430839133\n",
      "30 : 3.8078023816436493\n",
      "31 : 3.729945709186525\n",
      "32 : 3.6557267378164453\n",
      "33 : 3.5848444964258666\n",
      "34 : 3.5170379328867245\n",
      "35 : 3.4521122871750065\n",
      "36 : 3.3898691533678633\n",
      "37 : 3.3301854814553202\n",
      "38 : 3.272870150395989\n",
      "39 : 3.217742961983885\n",
      "40 : 3.1647027228636793\n",
      "41 : 3.113615523854089\n",
      "42 : 3.0643709609991494\n",
      "43 : 3.0168826526022254\n",
      "44 : 2.9710352968705562\n",
      "number of iterations to reach difference:  44\n"
     ]
    },
    {
     "data": {
      "text/plain": [
       "<__main__.SimilarityNetworkFusion at 0x7fca464a8220>"
      ]
     },
     "execution_count": 69,
     "metadata": {},
     "output_type": "execute_result"
    }
   ],
   "source": [
    "sm.iterations_fit(matrices_diff=3)"
   ]
  },
  {
   "cell_type": "code",
   "execution_count": 6,
   "metadata": {
    "scrolled": true
   },
   "outputs": [
    {
     "name": "stdout",
     "output_type": "stream",
     "text": [
      "0 : 31.316604788291937\n",
      "1 : 19.581563779946503\n",
      "2 : 15.698067529237102\n",
      "3 : 11.887030879754507\n",
      "4 : 9.858604441593494\n",
      "5 : 8.36262246583232\n",
      "6 : 7.305448549410003\n",
      "7 : 6.637090661919051\n",
      "8 : 6.1149390464582964\n",
      "9 : 5.7792866600348916\n",
      "10 : 5.504176926681836\n",
      "11 : 5.307419534957669\n",
      "12 : 5.141144938590253\n",
      "13 : 5.009428415269272\n",
      "14 : 4.896230239719472\n",
      "15 : 4.799644842770453\n",
      "16 : 4.712350756257479\n",
      "17 : 4.6317870215198305\n",
      "18 : 4.555345326724179\n",
      "19 : 4.481558882027976\n",
      "20 : 4.409065115832527\n",
      "21 : 4.337473094706606\n",
      "22 : 4.2664323148673535\n",
      "local minimum reached in  22 iterations\n"
     ]
    },
    {
     "data": {
      "text/plain": [
       "<__main__.SimilarityNetworkFusion at 0x7fd9e3c11d00>"
      ]
     },
     "execution_count": 6,
     "metadata": {},
     "output_type": "execute_result"
    }
   ],
   "source": [
    "sm.local_minimum_fit(iters_to_min=8)"
   ]
  },
  {
   "cell_type": "code",
   "execution_count": null,
   "metadata": {},
   "outputs": [],
   "source": [
    "import plotly.graph_objects as go\n",
    "\n",
    "def plot_starting_graphs(df, y_pred):\n",
    "    G = nx.from_numpy_matrix(df)\n",
    "    print(nx.info(G))\n",
    "    nx.draw_networkx(G, with_labels=False)\n",
    "    return"
   ]
  },
  {
   "cell_type": "code",
   "execution_count": null,
   "metadata": {},
   "outputs": [],
   "source": [
    "plot_starting_graphs(sm.p_rna, y_pred)"
   ]
  },
  {
   "cell_type": "markdown",
   "metadata": {},
   "source": [
    "# Loading the label"
   ]
  },
  {
   "cell_type": "code",
   "execution_count": 7,
   "metadata": {
    "gather": {
     "logged": 1608999830516
    }
   },
   "outputs": [],
   "source": [
    "y_illumina = LabelEncoder().fit_transform(df_illumina.drop_duplicates(subset='case_id').loc[:, 'label'].transform(lambda x: str(x)))\n",
    "y_mirna = LabelEncoder().fit_transform(df_mirna.drop_duplicates(subset='case_id').loc[:, 'label'].transform(lambda x:  str(x)))\n",
    "y_rna = LabelEncoder().fit_transform(df_rna.drop_duplicates(subset='case_id').loc[:, 'label'].transform(lambda x: str(x)))"
   ]
  },
  {
   "cell_type": "code",
   "execution_count": 8,
   "metadata": {
    "gather": {
     "logged": 1608999833044
    }
   },
   "outputs": [
    {
     "name": "stderr",
     "output_type": "stream",
     "text": [
      "/Users/carlozoccoli/anaconda3/lib/python3.8/site-packages/sklearn/utils/validation.py:73: UserWarning: Array is not symmetric, and will be converted to symmetric by average with its transpose.\n",
      "  return f(**kwargs)\n"
     ]
    }
   ],
   "source": [
    "y_pred = SpectralClustering(n_clusters=3, affinity='precomputed').fit(sm.p_mirna).labels_"
   ]
  },
  {
   "cell_type": "code",
   "execution_count": 9,
   "metadata": {
    "gather": {
     "logged": 1608999884714
    }
   },
   "outputs": [
    {
     "name": "stdout",
     "output_type": "stream",
     "text": [
      "Rand Score:\n",
      "\tIllumina 0.7669745272440923\n",
      "\tMirna 0.7626035617242862\n",
      "\tRNA: 0.7746477057016694\n",
      "\tmean: 0.7680752648900159\n",
      "\n",
      "\n",
      "Silhouette score:\n",
      "\tIllumina 0.8959583489566215\n",
      "\tMirna 0.8929830872918113\n",
      "\tRNA: 0.8999641267725116\n"
     ]
    }
   ],
   "source": [
    "print('Rand Score:')\n",
    "print('\\tIllumina', adjusted_rand_score(y_illumina, y_pred))\n",
    "print('\\tMirna', adjusted_rand_score(y_mirna, y_pred))\n",
    "print('\\tRNA:', adjusted_rand_score(y_rna, y_pred))\n",
    "print('\\tmean:', (adjusted_rand_score(y_rna, y_pred) + adjusted_rand_score(y_illumina, y_pred) + adjusted_rand_score(y_mirna, y_pred))/3)\n",
    "\n",
    "print('\\n')\n",
    "print('Silhouette score:')\n",
    "print('\\tIllumina', silhouette_score(sm.p_illumina, y_pred))\n",
    "print('\\tMirna', silhouette_score(sm.p_mirna, y_pred))\n",
    "print('\\tRNA:', silhouette_score(sm.p_rna, y_pred))"
   ]
  },
  {
   "cell_type": "code",
   "execution_count": null,
   "metadata": {},
   "outputs": [],
   "source": [
    "y_pred = KMeans(n_clusters=3).fit(sm.p_mirna).labels_\n",
    "print('Rand Score:')\n",
    "print('\\tIllumina', adjusted_rand_score(y_illumina, y_pred))\n",
    "print('\\tMirna', adjusted_rand_score(y_mirna, y_pred))\n",
    "print('\\tRNA:', adjusted_rand_score(y_rna, y_pred))\n",
    "print('\\n')\n",
    "print('Silhouette score:')\n",
    "print('\\tIllumina', silhouette_score(sm.p_illumina, y_pred))\n",
    "print('\\tMirna', silhouette_score(sm.p_mirna, y_pred))\n",
    "print('\\tRNA:', silhouette_score(sm.p_rna, y_pred))"
   ]
  },
  {
   "cell_type": "code",
   "execution_count": null,
   "metadata": {},
   "outputs": [],
   "source": [
    "#####SI POTREBBE UTILIZZARE COME CONDIZIONE DI TERMINAZIONE CON UN CERTO VALORE\n",
    "diff_matrix = np.abs(np.subtract(sm.p_rna, sm.p_mirna), sm.p_illumina)\n",
    "print(np.mean(diff_matrix))"
   ]
  }
 ],
 "metadata": {
  "kernelspec": {
   "display_name": "Python 3",
   "language": "python",
   "name": "python3"
  },
  "language_info": {
   "codemirror_mode": {
    "name": "ipython",
    "version": 3
   },
   "file_extension": ".py",
   "mimetype": "text/x-python",
   "name": "python",
   "nbconvert_exporter": "python",
   "pygments_lexer": "ipython3",
   "version": "3.8.3"
  },
  "nteract": {
   "version": "nteract-front-end@1.0.0"
  }
 },
 "nbformat": 4,
 "nbformat_minor": 2
}
